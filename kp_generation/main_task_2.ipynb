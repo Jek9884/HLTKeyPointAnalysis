{
 "cells": [
  {
   "cell_type": "code",
   "execution_count": 2,
   "id": "0cb5d46e-0ff0-4fd3-9475-36f3695a4125",
   "metadata": {},
   "outputs": [],
   "source": [
    "import pandas as pd\n",
    "import numpy as np\n",
    "import torch\n",
    "import matplotlib.pyplot as plt\n",
    "from transformers import AutoTokenizer, AutoModel, DataCollatorForSeq2Seq\n",
    "from generative_model import GenerativeModel, train, test, validate\n",
    "from torch.utils.data import DataLoader\n",
    "from transformers import AdamW, get_linear_schedule_with_warmup\n",
    "from task2_utils import tokenize_df_gen, decode_data, compute_metrics\n",
    "\n",
    "import sys\n",
    "import os\n",
    "sys.path.insert(1, '../')\n",
    "import data_handler\n",
    "sys.path.insert(1, '../kp_match')\n",
    "import siamese_network \n",
    "from siamese_network import SiameseNetwork"
   ]
  },
  {
   "cell_type": "code",
   "execution_count": 3,
   "id": "c0833074-0a41-4a13-971b-3c7e336fff15",
   "metadata": {},
   "outputs": [],
   "source": [
    "%load_ext autoreload\n",
    "%autoreload 2"
   ]
  },
  {
   "cell_type": "code",
   "execution_count": 4,
   "id": "f436461f-c497-483c-bcf4-4fd454287839",
   "metadata": {},
   "outputs": [],
   "source": [
    "os.environ[\"CUDA_VISIBLE_DEVICES\"]=\"1\"\n",
    "device = torch.device(0)"
   ]
  },
  {
   "cell_type": "markdown",
   "id": "fd8916a9-cb29-48ff-8ca8-259a995d299f",
   "metadata": {},
   "source": [
    "# Data Management"
   ]
  },
  {
   "cell_type": "code",
   "execution_count": 5,
   "id": "87a027e1-7afb-4ee3-8713-2cabf3b06d25",
   "metadata": {},
   "outputs": [],
   "source": [
    "df_train, df_val, df_test = data_handler.load_full_dataset('../dataset/', get_train=True, get_dev=True, get_test=True)"
   ]
  },
  {
   "cell_type": "code",
   "execution_count": 6,
   "id": "7fbb0433-b636-4184-82b8-b0d793837e6a",
   "metadata": {},
   "outputs": [
    {
     "name": "stdout",
     "output_type": "stream",
     "text": [
      "<class 'pandas.core.frame.DataFrame'>\n",
      "Int64Index: 4998 entries, 3 to 3455\n",
      "Data columns (total 5 columns):\n",
      " #   Column     Non-Null Count  Dtype \n",
      "---  ------     --------------  ----- \n",
      " 0   argument   4998 non-null   object\n",
      " 1   key_point  4998 non-null   object\n",
      " 2   topic      4998 non-null   object\n",
      " 3   stance     4998 non-null   int64 \n",
      " 4   label      4998 non-null   int64 \n",
      "dtypes: int64(2), object(3)\n",
      "memory usage: 234.3+ KB\n"
     ]
    }
   ],
   "source": [
    "df_train.info()"
   ]
  },
  {
   "cell_type": "code",
   "execution_count": 7,
   "id": "7dd2863a-1d80-406a-9e4a-3466afba109e",
   "metadata": {},
   "outputs": [
    {
     "name": "stdout",
     "output_type": "stream",
     "text": [
      "<class 'pandas.core.frame.DataFrame'>\n",
      "Int64Index: 552 entries, 3 to 3423\n",
      "Data columns (total 5 columns):\n",
      " #   Column     Non-Null Count  Dtype \n",
      "---  ------     --------------  ----- \n",
      " 0   argument   552 non-null    object\n",
      " 1   key_point  552 non-null    object\n",
      " 2   topic      552 non-null    object\n",
      " 3   stance     552 non-null    int64 \n",
      " 4   label      552 non-null    int64 \n",
      "dtypes: int64(2), object(3)\n",
      "memory usage: 25.9+ KB\n"
     ]
    }
   ],
   "source": [
    "df_val.info()"
   ]
  },
  {
   "cell_type": "code",
   "execution_count": 8,
   "id": "a783a2ac-d215-4500-8771-d1f91793e937",
   "metadata": {},
   "outputs": [
    {
     "name": "stdout",
     "output_type": "stream",
     "text": [
      "<class 'pandas.core.frame.DataFrame'>\n",
      "RangeIndex: 18398 entries, 0 to 18397\n",
      "Data columns (total 3 columns):\n",
      " #   Column    Non-Null Count  Dtype \n",
      "---  ------    --------------  ----- \n",
      " 0   argument  18398 non-null  object\n",
      " 1   topic     18398 non-null  object\n",
      " 2   stance    18398 non-null  int64 \n",
      "dtypes: int64(1), object(2)\n",
      "memory usage: 431.3+ KB\n"
     ]
    }
   ],
   "source": [
    "df_test.info()"
   ]
  },
  {
   "cell_type": "code",
   "execution_count": 9,
   "id": "917c2712-0735-449d-b25f-26c6f50c49e7",
   "metadata": {},
   "outputs": [
    {
     "name": "stdout",
     "output_type": "stream",
     "text": [
      "Number of unique topics present in Training set: 28\n",
      "Number of unique topics present in Validation set: 3\n",
      "Number of unique topics present in Test set: 43\n"
     ]
    }
   ],
   "source": [
    "print(f\"Number of unique topics present in Training set: {len(df_train['topic'].unique())}\")\n",
    "print(f\"Number of unique topics present in Validation set: {len(df_val['topic'].unique())}\")\n",
    "print(f\"Number of unique topics present in Test set: {len(df_test['topic'].unique())}\")"
   ]
  },
  {
   "cell_type": "code",
   "execution_count": 10,
   "id": "1f53ca8c-ba43-430e-94b0-9beb50c76aba",
   "metadata": {},
   "outputs": [
    {
     "name": "stdout",
     "output_type": "stream",
     "text": [
      "Overlap of topics between Training and Validation: 0\n",
      "Overlap of topics between Training and Test: 0\n",
      "Overlap of topics between Test and Validation: 0\n"
     ]
    }
   ],
   "source": [
    "#Check if there are some shared topics\n",
    "print(f\"Overlap of topics between Training and Validation: {len(np.intersect1d(df_train['topic'].unique(), df_val['topic'].unique()))}\")\n",
    "print(f\"Overlap of topics between Training and Test: {len(np.intersect1d(df_train['topic'].unique(), df_test['topic'].unique()))}\")\n",
    "print(f\"Overlap of topics between Test and Validation: {len(np.intersect1d(df_val['topic'].unique(), df_test['topic'].unique()))}\")"
   ]
  },
  {
   "cell_type": "code",
   "execution_count": 11,
   "id": "a502a076-471b-423a-a15a-de87fc1e55a8",
   "metadata": {},
   "outputs": [
    {
     "name": "stdout",
     "output_type": "stream",
     "text": [
      "Maximum length of key point: 19\n",
      "Minimum length of key point: 3\n",
      "Mean length of key point: 7.303721488595438\n"
     ]
    }
   ],
   "source": [
    "len_kp = pd.DataFrame()\n",
    "len_kp['length'] = df_train['key_point'].apply(lambda x: len(x.split(\" \")))\n",
    "print(f\"Maximum length of key point: {len_kp.length.max()}\")\n",
    "print(f\"Minimum length of key point: {len_kp.length.min()}\")\n",
    "print(f\"Mean length of key point: {len_kp.length.mean()}\")"
   ]
  },
  {
   "cell_type": "code",
   "execution_count": 12,
   "id": "a7004097-3bfa-4a38-a00e-3e12f5689ef3",
   "metadata": {},
   "outputs": [],
   "source": [
    "# Concatenate topics and keypoints, as stated in the paper\n",
    "df_train = data_handler.concatenate_topics(df_train, input_col='argument', output_col='argument')\n",
    "df_val = data_handler.concatenate_topics(df_val, input_col='argument', output_col='argument')\n",
    "df_test = data_handler.concatenate_topics(df_test, input_col='argument', output_col='argument')"
   ]
  },
  {
   "cell_type": "code",
   "execution_count": 13,
   "id": "99e5fde1-40d8-4447-abf3-aa30a24672c0",
   "metadata": {},
   "outputs": [],
   "source": [
    "n_words = pd.DataFrame()\n",
    "n_words['words_per_arg_train'] = df_train['argument'].str.split().apply(len)\n",
    "n_words['words_per_arg_val'] = df_val['argument'].str.split().apply(len)\n",
    "n_words['words_per_arg_test'] = df_test['argument'].str.split().apply(len)"
   ]
  },
  {
   "cell_type": "code",
   "execution_count": 14,
   "id": "e9ecf09b-1c47-4cd7-baa9-556e38c64004",
   "metadata": {},
   "outputs": [
    {
     "data": {
      "text/plain": [
       "<AxesSubplot: >"
      ]
     },
     "execution_count": 14,
     "metadata": {},
     "output_type": "execute_result"
    },
    {
     "data": {
      "image/png": "[encoded data removed]",
      "text/plain": [
       "<Figure size 1500x500 with 1 Axes>"
      ]
     },
     "metadata": {},
     "output_type": "display_data"
    }
   ],
   "source": [
    "n_words.plot.box(figsize=(15, 5))"
   ]
  },
  {
   "cell_type": "code",
   "execution_count": 15,
   "id": "c84f478d-c714-4718-90a7-3dc61e81cdb8",
   "metadata": {},
   "outputs": [
    {
     "name": "stdout",
     "output_type": "stream",
     "text": [
      "Max number of words for Training args: 49\n",
      "Max number of words for Validation args: 47.0\n",
      "Max number of words for Test args: 48\n",
      "\n"
     ]
    }
   ],
   "source": [
    "print(f\"Max number of words for Training args: {n_words['words_per_arg_train'].max()}\")\n",
    "print(f\"Max number of words for Validation args: {n_words['words_per_arg_val'].max()}\")\n",
    "print(f\"Max number of words for Test args: {n_words['words_per_arg_test'].max()}\\n\")"
   ]
  },
  {
   "cell_type": "markdown",
   "id": "3f9ac52e-8484-4a92-9281-6bfd688c4c76",
   "metadata": {},
   "source": [
    "# Training"
   ]
  },
  {
   "cell_type": "code",
   "execution_count": 6,
   "id": "95796f1d-a118-44e5-8d05-e52c214cc6e5",
   "metadata": {},
   "outputs": [],
   "source": [
    "df_train = df_train[1:100]\n",
    "df_val = df_val[1:100]"
   ]
  },
  {
   "cell_type": "code",
   "execution_count": 7,
   "id": "d9c6841a-bee0-41f5-8fca-829716c8d2cb",
   "metadata": {},
   "outputs": [
    {
     "name": "stderr",
     "output_type": "stream",
     "text": [
      "/storagenfs/m.melerocavallo/HLTKeyPointAnalysis/venv2/lib/python3.8/site-packages/transformers/tokenization_utils_base.py:2336: FutureWarning: The `pad_to_max_length` argument is deprecated and will be removed in a future version, use `padding=True` or `padding='longest'` to pad to the longest sequence in the batch, or use `padding='max_length'` to pad to a max length. In this case, you can give a specific length with `max_length` (e.g. `max_length=45`) or leave max_length to None to pad to the maximal input size of the model (e.g. 512 for Bert).\n",
      "  warnings.warn(\n",
      "/storagenfs/m.melerocavallo/HLTKeyPointAnalysis/venv2/lib/python3.8/site-packages/transformers/tokenization_utils_base.py:3578: UserWarning: `as_target_tokenizer` is deprecated and will be removed in v5 of Transformers. You can tokenize your labels by using the argument `text_target` of the regular `__call__` method (either in the same call as your input texts if you use the same keyword arguments, or in a separate call.\n",
      "  warnings.warn(\n",
      "Truncation was not explicitly activated but `max_length` is provided a specific value, please use `truncation=True` to explicitly truncate examples to max length. Defaulting to 'longest_first' truncation strategy. If you encode pairs of sequences (GLUE-style) with the tokenizer you can select this strategy more precisely by providing a specific strategy to `truncation`.\n"
     ]
    }
   ],
   "source": [
    "from task2_utils import tokenize_df_gen\n",
    "max_length = 128\n",
    "\n",
    "model = PegasusModel()\n",
    "tokenizer = AutoTokenizer.from_pretrained('google/pegasus-xsum')\n",
    "seq2seq_data_collator = DataCollatorForSeq2Seq(tokenizer, model=model, padding=True, max_length=max_length)\n",
    "\n",
    "tokenized_tr = tokenize_df_gen(df_train, tokenizer, max_length=max_length)"
   ]
  },
  {
   "cell_type": "code",
   "execution_count": null,
   "id": "0a92470d-264f-4df2-ba11-3070dbcb331a",
   "metadata": {},
   "outputs": [],
   "source": [
    "# Tokenizing without padding to check token lengths\n",
    "args_len = [len(tokenizer.encode(s)) for s in df_train['argument']]\n",
    "kps_len = [len(tokenizer.encode(s)) for s in df_train['key_point']]"
   ]
  },
  {
   "cell_type": "code",
   "execution_count": 17,
   "id": "2d9b70d9-ff36-4ad7-a631-a4a7d10e73f9",
   "metadata": {},
   "outputs": [
    {
     "data": {
      "image/png": "[encoded data removed]",
      "text/plain": [
       "<Figure size 1000x350 with 2 Axes>"
      ]
     },
     "metadata": {},
     "output_type": "display_data"
    }
   ],
   "source": [
    "fig, axes = plt.subplots(1, 2, figsize=(10, 3.5), sharey=True)\n",
    "axes[0].hist(args_len, bins=20, color=\"C0\", edgecolor=\"C0\")\n",
    "axes[0].set_title(\"Arguments Token Length\")\n",
    "axes[0].set_xlabel(\"Length\")\n",
    "axes[0].set_ylabel(\"Count\")\n",
    "\n",
    "axes[1].hist(kps_len, bins=20, color=\"C0\", edgecolor=\"C0\")\n",
    "axes[1].set_title(\"Key Points Token Length\")\n",
    "axes[1].set_xlabel(\"Length\")\n",
    "plt.tight_layout()\n",
    "plt.show()"
   ]
  },
  {
   "cell_type": "markdown",
   "id": "a0958713-00c3-4a91-ad1e-72124f3191ef",
   "metadata": {},
   "source": [
    "# Compute baseline"
   ]
  },
  {
   "cell_type": "code",
   "execution_count": 14,
   "id": "9be2cb13-5376-46ed-8f1b-9e4dd04f8636",
   "metadata": {},
   "outputs": [],
   "source": [
    "def test_baseline(model_type, device, loss, metrics):\n",
    "    tokenizer = AutoTokenizer.from_pretrained(model_type)\n",
    "    max_length = 100\n",
    "    \n",
    "    _, df_val, df_test = data_handler.load_full_dataset('../dataset/', get_train=False, get_dev=True, get_test=True)\n",
    "\n",
    "    # Concatenate topics and keypoints, as stated in the paper\n",
    "    df_val = data_handler.concatenate_topics(df_val, input_col='argument', output_col='argument')\n",
    "    df_test = data_handler.concatenate_topics(df_test, input_col='argument', output_col='argument')\n",
    "    \n",
    "    model = GenerativeModel(model_type)\n",
    "    model.to(device)\n",
    "    \n",
    "    tokenized_val = tokenize_df_gen(df_val, tokenizer, max_length=max_length)\n",
    "\n",
    "    seq2seq_data_collator = DataCollatorForSeq2Seq(tokenizer, model=model, padding=True, max_length=max_length)\n",
    "\n",
    "    val_loader = DataLoader(\n",
    "        tokenized_val, # dataset di validazione\n",
    "        collate_fn=seq2seq_data_collator, # data collator\n",
    "        pin_memory=True\n",
    "    )\n",
    "    \n",
    "    val_res = validate(model, device, val_loader, max_length=max_length)\n",
    "    \n",
    "    dec_pred, dec_exp = decode_data(val_res['predicted'], val_res['labels'], tokenizer)\n",
    "    # Compute metrics\n",
    "    val_metrics = compute_metrics(dec_pred, dec_exp, metrics)\n",
    "    print(f\"Validation results with model {model_type}:\")\n",
    "    print(val_metrics)\n",
    "    print(f\"Some validation phrases generated using {model_type}:\")\n",
    "    for i in range(5):\n",
    "        print(f\"Argument: {df_val['argument'].iloc[i]} Generated key-point: {dec_pred[i]}\")\n",
    "\n",
    "    tokenized_test = tokenize_df_gen(df_test, tokenizer, max_length=max_length, key_points_on=False)\n",
    "\n",
    "    test_loader = DataLoader(\n",
    "        tokenized_test, # dataset di validazione\n",
    "        collate_fn=seq2seq_data_collator, # data collator\n",
    "        pin_memory=True\n",
    "    )\n",
    "\n",
    "    test_res = test(model, device, test_loader, max_length=max_length)\n",
    "\n",
    "    dec_pred = tokenizer.batch_decode(test_res['predicted'], skip_special_tokens=True, clean_up_tokenization_spaces=True)\n",
    "    print(f\"Some test phrases generated using {model_type}:\")\n",
    "    for i in range(5):\n",
    "        print(f\"Argument: {df_test['argument'].iloc[i]} Generated key-point: {dec_pred[i]}\")\n"
   ]
  },
  {
   "cell_type": "code",
   "execution_count": null,
   "id": "63d2ef34-e6f2-4fa2-af8b-19f03a6e14d9",
   "metadata": {},
   "outputs": [],
   "source": [
    "model_type = 'google/pegasus-xsum'\n",
    "test_baseline(model_type, device, None, ['rouge']) "
   ]
  },
  {
   "cell_type": "code",
   "execution_count": null,
   "id": "3f543568-cabb-40c6-b656-8fe78d3a9455",
   "metadata": {},
   "outputs": [],
   "source": []
  },
  {
   "cell_type": "code",
   "execution_count": null,
   "id": "e2dd3dfb-72b3-4349-b008-7a54d33b4a59",
   "metadata": {},
   "outputs": [],
   "source": []
  }
 ],
 "metadata": {
  "kernelspec": {
   "display_name": "venv2",
   "language": "python",
   "name": "venv2"
  },
  "language_info": {
   "codemirror_mode": {
    "name": "ipython",
    "version": 3
   },
   "file_extension": ".py",
   "mimetype": "text/x-python",
   "name": "python",
   "nbconvert_exporter": "python",
   "pygments_lexer": "ipython3",
   "version": "3.8.10"
  }
 },
 "nbformat": 4,
 "nbformat_minor": 5
}
