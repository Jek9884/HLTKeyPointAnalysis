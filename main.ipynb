{
 "cells": [
  {
   "cell_type": "code",
   "execution_count": 40,
   "metadata": {
    "collapsed": false,
    "jupyter": {
     "outputs_hidden": false
    }
   },
   "outputs": [],
   "source": [
    "import torch\n",
    "from pytorch_metric_learning import losses\n",
    "import data_handler\n",
    "from siamese_network import SiameseNetwork, train\n",
    "from transformers import BertModel, BertTokenizer, AdamW, get_linear_schedule_with_warmup\n",
    "from torch.utils.data import DataLoader\n",
    "from custom_losses import ContrastiveLoss\n",
    "import matplotlib.pyplot as plt\n",
    "import pandas as pd"
   ]
  },
  {
   "cell_type": "code",
   "execution_count": 2,
   "metadata": {},
   "outputs": [],
   "source": [
    "%load_ext autoreload\n",
    "%autoreload 2"
   ]
  },
  {
   "cell_type": "code",
   "execution_count": 3,
   "metadata": {
    "collapsed": false,
    "jupyter": {
     "outputs_hidden": false
    }
   },
   "outputs": [
    {
     "name": "stdout",
     "output_type": "stream",
     "text": [
      "torch cuda available: True\n"
     ]
    }
   ],
   "source": [
    "torch.zeros(1).cuda()\n",
    "#print(f\"torch version: {torch.__version__}\")\n",
    "\n",
    "DEVICE = torch.device(\"cuda\") if torch.cuda.is_available() else torch.device(\"cpu\")\n",
    "\n",
    "print(f\"torch cuda available: {torch.cuda.is_available()}\")"
   ]
  },
  {
   "cell_type": "markdown",
   "metadata": {},
   "source": [
    "# Data Management"
   ]
  },
  {
   "cell_type": "code",
   "execution_count": 54,
   "metadata": {},
   "outputs": [],
   "source": [
    "df_data, _ = data_handler.load(path=\"dataset/\", filename_train=\"train.csv\", sep_char='#')"
   ]
  },
  {
   "cell_type": "code",
   "execution_count": 55,
   "metadata": {},
   "outputs": [
    {
     "name": "stdout",
     "output_type": "stream",
     "text": [
      "<class 'pandas.core.frame.DataFrame'>\n",
      "RangeIndex: 20635 entries, 0 to 20634\n",
      "Data columns (total 4 columns):\n",
      " #   Column     Non-Null Count  Dtype  \n",
      "---  ------     --------------  -----  \n",
      " 0   argument   20635 non-null  object \n",
      " 1   key_point  20635 non-null  object \n",
      " 2   topic      20635 non-null  object \n",
      " 3   label      20635 non-null  float64\n",
      "dtypes: float64(1), object(3)\n",
      "memory usage: 645.0+ KB\n"
     ]
    }
   ],
   "source": [
    "df_data.info()"
   ]
  },
  {
   "cell_type": "code",
   "execution_count": 56,
   "metadata": {},
   "outputs": [
    {
     "data": {
      "text/plain": [
       "0.0    16375\n",
       "1.0     4260\n",
       "Name: label, dtype: int64"
      ]
     },
     "execution_count": 56,
     "metadata": {},
     "output_type": "execute_result"
    }
   ],
   "source": [
    "df_data['label'].value_counts()"
   ]
  },
  {
   "cell_type": "code",
   "execution_count": 57,
   "metadata": {},
   "outputs": [
    {
     "data": {
      "text/plain": [
       "<AxesSubplot: title={'center': 'Labels Proportions in Dataset'}>"
      ]
     },
     "execution_count": 57,
     "metadata": {},
     "output_type": "execute_result"
    },
    {
     "data": {
      "image/png": "[encoded data removed]",
      "text/plain": [
       "<Figure size 640x480 with 1 Axes>"
      ]
     },
     "metadata": {},
     "output_type": "display_data"
    }
   ],
   "source": [
    "df_data['label'].value_counts().plot.bar(title='Labels Proportions in Dataset')"
   ]
  },
  {
   "cell_type": "code",
   "execution_count": 67,
   "metadata": {},
   "outputs": [
    {
     "name": "stdout",
     "output_type": "stream",
     "text": [
      "zero_train:  13100\n",
      "one_train:  3408\n",
      "zero_val:  3275\n",
      "one_val:  852\n"
     ]
    }
   ],
   "source": [
    "# Perform a stratified split dividing it into 80% training set and 20% validation set\n",
    "df_train, df_val = data_handler.split_train_data(df_data, perc_split=0.8)"
   ]
  },
  {
   "cell_type": "code",
   "execution_count": 68,
   "metadata": {},
   "outputs": [
    {
     "name": "stdout",
     "output_type": "stream",
     "text": [
      "<class 'pandas.core.frame.DataFrame'>\n",
      "Int64Index: 16508 entries, 0 to 16471\n",
      "Data columns (total 4 columns):\n",
      " #   Column     Non-Null Count  Dtype  \n",
      "---  ------     --------------  -----  \n",
      " 0   argument   16508 non-null  object \n",
      " 1   key_point  16508 non-null  object \n",
      " 2   topic      16508 non-null  object \n",
      " 3   label      16508 non-null  float64\n",
      "dtypes: float64(1), object(3)\n",
      "memory usage: 644.8+ KB\n"
     ]
    }
   ],
   "source": [
    "df_train.info()"
   ]
  },
  {
   "cell_type": "code",
   "execution_count": 69,
   "metadata": {},
   "outputs": [
    {
     "name": "stdout",
     "output_type": "stream",
     "text": [
      "<class 'pandas.core.frame.DataFrame'>\n",
      "Int64Index: 4127 entries, 16520 to 20634\n",
      "Data columns (total 4 columns):\n",
      " #   Column     Non-Null Count  Dtype  \n",
      "---  ------     --------------  -----  \n",
      " 0   argument   4127 non-null   object \n",
      " 1   key_point  4127 non-null   object \n",
      " 2   topic      4127 non-null   object \n",
      " 3   label      4127 non-null   float64\n",
      "dtypes: float64(1), object(3)\n",
      "memory usage: 161.2+ KB\n"
     ]
    }
   ],
   "source": [
    "df_val.info()"
   ]
  },
  {
   "cell_type": "code",
   "execution_count": 70,
   "metadata": {},
   "outputs": [
    {
     "data": {
      "text/plain": [
       "<AxesSubplot: title={'center': 'Labels Proportions in Training set'}>"
      ]
     },
     "execution_count": 70,
     "metadata": {},
     "output_type": "execute_result"
    },
    {
     "data": {
      "image/png": "[encoded data removed]",
      "text/plain": [
       "<Figure size 640x480 with 1 Axes>"
      ]
     },
     "metadata": {},
     "output_type": "display_data"
    }
   ],
   "source": [
    "df_train['label'].value_counts().plot.bar(title='Labels Proportions in Training set')"
   ]
  },
  {
   "cell_type": "code",
   "execution_count": 71,
   "metadata": {},
   "outputs": [
    {
     "data": {
      "text/plain": [
       "<AxesSubplot: title={'center': 'Labels Proportions in Validation set'}>"
      ]
     },
     "execution_count": 71,
     "metadata": {},
     "output_type": "execute_result"
    },
    {
     "data": {
      "image/png": "[encoded data removed]",
      "text/plain": [
       "<Figure size 640x480 with 1 Axes>"
      ]
     },
     "metadata": {},
     "output_type": "display_data"
    }
   ],
   "source": [
    "df_val['label'].value_counts().plot.bar(title='Labels Proportions in Validation set')"
   ]
  },
  {
   "cell_type": "code",
   "execution_count": 72,
   "metadata": {},
   "outputs": [],
   "source": [
    "# Concatenate topics and keypoints, as stated in the paper\n",
    "df_train = data_handler.concatenate_topics(df_train)\n",
    "df_val = data_handler.concatenate_topics(df_val)"
   ]
  },
  {
   "cell_type": "code",
   "execution_count": 73,
   "metadata": {},
   "outputs": [
    {
     "name": "stdout",
     "output_type": "stream",
     "text": [
      "<class 'pandas.core.frame.DataFrame'>\n",
      "RangeIndex: 16508 entries, 0 to 16507\n",
      "Data columns (total 3 columns):\n",
      " #   Column      Non-Null Count  Dtype  \n",
      "---  ------      --------------  -----  \n",
      " 0   args        16508 non-null  object \n",
      " 1   key_points  16508 non-null  object \n",
      " 2   labels      16508 non-null  float64\n",
      "dtypes: float64(1), object(2)\n",
      "memory usage: 387.0+ KB\n",
      "--------\n",
      "<class 'pandas.core.frame.DataFrame'>\n",
      "RangeIndex: 4127 entries, 0 to 4126\n",
      "Data columns (total 3 columns):\n",
      " #   Column      Non-Null Count  Dtype  \n",
      "---  ------      --------------  -----  \n",
      " 0   args        4127 non-null   object \n",
      " 1   key_points  4127 non-null   object \n",
      " 2   labels      4127 non-null   float64\n",
      "dtypes: float64(1), object(2)\n",
      "memory usage: 96.9+ KB\n"
     ]
    }
   ],
   "source": [
    "df_train.info()\n",
    "print('--------')\n",
    "df_val.info()"
   ]
  },
  {
   "cell_type": "code",
   "execution_count": 86,
   "metadata": {},
   "outputs": [
    {
     "data": {
      "text/html": [
       "<div>\n",
       "<style scoped>\n",
       "    .dataframe tbody tr th:only-of-type {\n",
       "        vertical-align: middle;\n",
       "    }\n",
       "\n",
       "    .dataframe tbody tr th {\n",
       "        vertical-align: top;\n",
       "    }\n",
       "\n",
       "    .dataframe thead th {\n",
       "        text-align: right;\n",
       "    }\n",
       "</style>\n",
       "<table border=\"1\" class=\"dataframe\">\n",
       "  <thead>\n",
       "    <tr style=\"text-align: right;\">\n",
       "      <th></th>\n",
       "      <th>index</th>\n",
       "      <th>args</th>\n",
       "      <th>key_points</th>\n",
       "      <th>labels</th>\n",
       "    </tr>\n",
       "  </thead>\n",
       "  <tbody>\n",
       "    <tr>\n",
       "      <th>0</th>\n",
       "      <td>13050</td>\n",
       "      <td>the cost of vocational education far outweighs...</td>\n",
       "      <td>We should subsidize vocational education subsi...</td>\n",
       "      <td>0.0</td>\n",
       "    </tr>\n",
       "    <tr>\n",
       "      <th>1</th>\n",
       "      <td>13051</td>\n",
       "      <td>cloning science can lead to many other technol...</td>\n",
       "      <td>We should ban human cloning Cloning can be use...</td>\n",
       "      <td>0.0</td>\n",
       "    </tr>\n",
       "    <tr>\n",
       "      <th>2</th>\n",
       "      <td>13052</td>\n",
       "      <td>the worst of the worst have nowhere else to go...</td>\n",
       "      <td>We should close Guantanamo Bay detention camp ...</td>\n",
       "      <td>0.0</td>\n",
       "    </tr>\n",
       "    <tr>\n",
       "      <th>3</th>\n",
       "      <td>13053</td>\n",
       "      <td>many people are suffering terribly but are phy...</td>\n",
       "      <td>Assisted suicide should be a criminal offence ...</td>\n",
       "      <td>0.0</td>\n",
       "    </tr>\n",
       "    <tr>\n",
       "      <th>4</th>\n",
       "      <td>13054</td>\n",
       "      <td>cannabis has been shown to negatively affect t...</td>\n",
       "      <td>We should legalize cannabis Cannabis is a gate...</td>\n",
       "      <td>0.0</td>\n",
       "    </tr>\n",
       "    <tr>\n",
       "      <th>...</th>\n",
       "      <td>...</td>\n",
       "      <td>...</td>\n",
       "      <td>...</td>\n",
       "      <td>...</td>\n",
       "    </tr>\n",
       "    <tr>\n",
       "      <th>95</th>\n",
       "      <td>13145</td>\n",
       "      <td>it can be viewed as undemocratic to force peop...</td>\n",
       "      <td>We should introduce compulsory voting Citizens...</td>\n",
       "      <td>1.0</td>\n",
       "    </tr>\n",
       "    <tr>\n",
       "      <th>96</th>\n",
       "      <td>13146</td>\n",
       "      <td>cannabis is not a dangerous drug such as meth ...</td>\n",
       "      <td>We should legalize cannabis Alcohol and tobacc...</td>\n",
       "      <td>1.0</td>\n",
       "    </tr>\n",
       "    <tr>\n",
       "      <th>97</th>\n",
       "      <td>13147</td>\n",
       "      <td>Parents should be able to plan out their famil...</td>\n",
       "      <td>We should legalize sex selection It is within ...</td>\n",
       "      <td>1.0</td>\n",
       "    </tr>\n",
       "    <tr>\n",
       "      <th>98</th>\n",
       "      <td>13148</td>\n",
       "      <td>We should not legalize cannabis as it has been...</td>\n",
       "      <td>We should legalize cannabis Cannabis harms the...</td>\n",
       "      <td>1.0</td>\n",
       "    </tr>\n",
       "    <tr>\n",
       "      <th>99</th>\n",
       "      <td>13149</td>\n",
       "      <td>assisted suicide should not be a criminal defe...</td>\n",
       "      <td>Assisted suicide should be a criminal offence ...</td>\n",
       "      <td>1.0</td>\n",
       "    </tr>\n",
       "  </tbody>\n",
       "</table>\n",
       "<p>100 rows × 4 columns</p>\n",
       "</div>"
      ],
      "text/plain": [
       "    index                                               args  \\\n",
       "0   13050  the cost of vocational education far outweighs...   \n",
       "1   13051  cloning science can lead to many other technol...   \n",
       "2   13052  the worst of the worst have nowhere else to go...   \n",
       "3   13053  many people are suffering terribly but are phy...   \n",
       "4   13054  cannabis has been shown to negatively affect t...   \n",
       "..    ...                                                ...   \n",
       "95  13145  it can be viewed as undemocratic to force peop...   \n",
       "96  13146  cannabis is not a dangerous drug such as meth ...   \n",
       "97  13147  Parents should be able to plan out their famil...   \n",
       "98  13148  We should not legalize cannabis as it has been...   \n",
       "99  13149  assisted suicide should not be a criminal defe...   \n",
       "\n",
       "                                           key_points  labels  \n",
       "0   We should subsidize vocational education subsi...     0.0  \n",
       "1   We should ban human cloning Cloning can be use...     0.0  \n",
       "2   We should close Guantanamo Bay detention camp ...     0.0  \n",
       "3   Assisted suicide should be a criminal offence ...     0.0  \n",
       "4   We should legalize cannabis Cannabis is a gate...     0.0  \n",
       "..                                                ...     ...  \n",
       "95  We should introduce compulsory voting Citizens...     1.0  \n",
       "96  We should legalize cannabis Alcohol and tobacc...     1.0  \n",
       "97  We should legalize sex selection It is within ...     1.0  \n",
       "98  We should legalize cannabis Cannabis harms the...     1.0  \n",
       "99  Assisted suicide should be a criminal offence ...     1.0  \n",
       "\n",
       "[100 rows x 4 columns]"
      ]
     },
     "execution_count": 86,
     "metadata": {},
     "output_type": "execute_result"
    }
   ],
   "source": [
    "df_train = df_train[13050:13150]\n",
    "df_train = df_train.reset_index()\n",
    "df_train[:100]"
   ]
  },
  {
   "cell_type": "code",
   "execution_count": 87,
   "metadata": {},
   "outputs": [],
   "source": [
    "n_words = pd.DataFrame()\n",
    "n_words['words_per_arg_train'] = df_train['args'].str.split().apply(len)\n",
    "n_words['words_per_arg_val'] = df_val['args'].str.split().apply(len)\n",
    "n_words['words_per_kp_train'] = df_train['key_points'].str.split().apply(len)\n",
    "n_words['words_per_kp_val'] = df_val['key_points'].str.split().apply(len)"
   ]
  },
  {
   "cell_type": "markdown",
   "metadata": {},
   "source": [
    "Considerazioni varie..."
   ]
  },
  {
   "cell_type": "code",
   "execution_count": 88,
   "metadata": {},
   "outputs": [
    {
     "data": {
      "text/plain": [
       "<AxesSubplot: >"
      ]
     },
     "execution_count": 88,
     "metadata": {},
     "output_type": "execute_result"
    },
    {
     "data": {
      "image/png": "[encoded data removed]",
      "text/plain": [
       "<Figure size 1000x500 with 1 Axes>"
      ]
     },
     "metadata": {},
     "output_type": "display_data"
    }
   ],
   "source": [
    "n_words.plot.box(figsize=(10, 5))"
   ]
  },
  {
   "cell_type": "code",
   "execution_count": 89,
   "metadata": {},
   "outputs": [
    {
     "name": "stderr",
     "output_type": "stream",
     "text": [
      "/storagenfs/m.melerocavallo/HLTKeyPointAnalysis/venv2/lib/python3.8/site-packages/transformers/tokenization_utils_base.py:2336: FutureWarning: The `pad_to_max_length` argument is deprecated and will be removed in a future version, use `padding=True` or `padding='longest'` to pad to the longest sequence in the batch, or use `padding='max_length'` to pad to a max length. In this case, you can give a specific length with `max_length` (e.g. `max_length=45`) or leave max_length to None to pad to the maximal input size of the model (e.g. 512 for Bert).\n",
      "  warnings.warn(\n"
     ]
    }
   ],
   "source": [
    "# Load our model's (bert-base-uncased) tokenizer\n",
    "tokenizer = BertTokenizer.from_pretrained('bert-base-uncased', do_lower_case=True)\n",
    "\n",
    "# Tokenize data\n",
    "tokenized = data_handler.tokenize_df(df_train[:100], tokenizer)"
   ]
  },
  {
   "cell_type": "code",
   "execution_count": 90,
   "metadata": {},
   "outputs": [
    {
     "name": "stdout",
     "output_type": "stream",
     "text": [
      "Vocabulary size of tokenizer: 30522 \n",
      "Context size: 512\n"
     ]
    }
   ],
   "source": [
    "print(f'Vocabulary size of tokenizer:', tokenizer.vocab_size, '\\nContext size:', tokenizer.model_max_length)"
   ]
  },
  {
   "cell_type": "code",
   "execution_count": 91,
   "metadata": {},
   "outputs": [
    {
     "name": "stderr",
     "output_type": "stream",
     "text": [
      "Some weights of the model checkpoint at bert-base-uncased were not used when initializing BertModel: ['cls.predictions.transform.LayerNorm.bias', 'cls.predictions.transform.LayerNorm.weight', 'cls.predictions.transform.dense.bias', 'cls.seq_relationship.weight', 'cls.predictions.decoder.weight', 'cls.predictions.transform.dense.weight', 'cls.predictions.bias', 'cls.seq_relationship.bias']\n",
      "- This IS expected if you are initializing BertModel from the checkpoint of a model trained on another task or with another architecture (e.g. initializing a BertForSequenceClassification model from a BertForPreTraining model).\n",
      "- This IS NOT expected if you are initializing BertModel from the checkpoint of a model that you expect to be exactly identical (initializing a BertForSequenceClassification model from a BertForSequenceClassification model).\n"
     ]
    }
   ],
   "source": [
    "model = SiameseNetwork(bert_type=BertModel.from_pretrained('bert-base-uncased'))\n",
    "\n",
    "batch_size = 32\n",
    "\n",
    "train_loader = DataLoader(tokenized, shuffle=True, batch_size=batch_size)\n",
    "\n",
    "#train_loss = ContrastiveLoss()\n",
    "train_loss = losses.ContrastiveLoss()\n",
    "\n",
    "optimizer = torch.optim.AdamW(model.parameters(),\n",
    "                  lr = 2e-5, # args.learning_rate - default is 5e-5, our notebook had 2e-5\n",
    "                  eps = 1e-8 # args.adam_epsilon  - default is 1e-8.\n",
    "                )\n",
    "\n",
    "# Batch size: 16, 32\n",
    "# Learning rate (Adam): 5e-5, 3e-5, 2e-5\n",
    "# Number of epochs: 2, 3, 4\n",
    "\n",
    "# The BERT authors recommend between 2 and 4.\n",
    "epochs = 1\n",
    "\n",
    "# Total number of training steps is [number of batches] x [number of epochs]. \n",
    "# (Note that this is not the same as the number of training samples).\n",
    "total_steps = len(train_loader) * epochs\n",
    "\n",
    "# Create the learning rate scheduler.\n",
    "scheduler = get_linear_schedule_with_warmup(optimizer, \n",
    "                                            num_warmup_steps = 0, # Default value in run_glue.py\n",
    "                                            num_training_steps = total_steps)"
   ]
  },
  {
   "cell_type": "code",
   "execution_count": 92,
   "metadata": {},
   "outputs": [],
   "source": [
    "'''\n",
    "-y \u0001 log(^y) + (1 - y) \u0001 log(1 - ^y)\n",
    "where ^y is the cosine similarity of the embeddings,\n",
    "and y reflects whether a pair matches (1) or not (0).\n",
    "'''\n",
    "\n",
    "import numpy as np\n",
    "def paper_contrastive(cosine, label):\n",
    "    \n",
    "    #cosine[cosine == 0] = 1e-8\n",
    "    #cosine[cosine == 1] = 0.99\n",
    "    \n",
    "    log_1 = torch.nan_to_num(torch.log(cosine), nan=-1e5)\n",
    "    log_2 = torch.nan_to_num(torch.log(1-cosine), nan=-1e5)\n",
    "    \n",
    "    #print(f'cosine {log_1.shape} {log_2.shape}')\n",
    "    \n",
    "    contr = torch.mul((-label).double(), log_1.double())+ \\\n",
    "            torch.mul((1-label).double(), log_2.double())\n",
    "    return contr"
   ]
  },
  {
   "cell_type": "code",
   "execution_count": 93,
   "metadata": {},
   "outputs": [
    {
     "name": "stdout",
     "output_type": "stream",
     "text": [
      "32\n",
      "torch.Size([32, 1])\n",
      "Train Epoch: 1 batch: 0 loss: tensor(-1.1666, grad_fn=<MeanBackward0>)\n",
      "32\n",
      "torch.Size([32, 1])\n",
      "Train Epoch: 1 batch: 1 loss: tensor(-1.1770, grad_fn=<MeanBackward0>)\n",
      "32\n",
      "torch.Size([32, 1])\n",
      "Train Epoch: 1 batch: 2 loss: tensor(-0.8133, grad_fn=<MeanBackward0>)\n",
      "4\n",
      "torch.Size([4, 1])\n",
      "Train Epoch: 1 batch: 3 loss: tensor(-0.6171, grad_fn=<MeanBackward0>)\n"
     ]
    }
   ],
   "source": [
    "model.train()\n",
    "epoch=1\n",
    "for batch_idx, (encodings) in enumerate(train_loader):\n",
    "  #images_1, images_2, targets = images_1.to(device), images_2.to(device), targets.to(device)\n",
    "\n",
    "  # Extract arguments, key_points and labels all from the same batch\n",
    "    args = encodings['arg']\n",
    "    kps = encodings['kp']\n",
    "    labels = encodings['label']\n",
    "\n",
    "    optimizer.zero_grad()\n",
    "    output1, output2 = model(args, kps, labels)\n",
    "        \n",
    "    # AVG of every token\n",
    "    output1 = torch.mean(output1, 1)\n",
    "    output2 = torch.mean(output2, 1)\n",
    "    \n",
    "    cos = torch.nn.CosineSimilarity()\n",
    "    cosine_sim = cos(output1, output2)\n",
    "    \n",
    "    print(args['input_ids'].shape[0])\n",
    "    loss = torch.Tensor(args['input_ids'].shape[0], 1)\n",
    "    for i in range(0, cosine_sim.shape[0]):\n",
    "        loss[i] = paper_contrastive(cosine_sim[i], labels[i])\n",
    "    #loss_function(output1, output2, labels)\n",
    "    print(loss.shape)\n",
    "\n",
    "\n",
    "    #loss = loss_function(tf.convert_to_tensor(labels.numpy()), tf.convert_to_tensor(outputs.numpy()))\n",
    "    loss.mean().backward()\n",
    "\n",
    "    # Clip the norm of the gradients to 1.0.\n",
    "    # This is to help prevent the \"exploding gradients\" problem.\n",
    "    torch.nn.utils.clip_grad_norm_(model.parameters(), 1.0)\n",
    "\n",
    "    # Update parameters and take a step using the computed gradient.\n",
    "    # The optimizer dictates the \"update rule\"--how the parameters are\n",
    "    # modified based on their gradients, the learning rate, etc.\n",
    "    optimizer.step()\n",
    "\n",
    "    # Update the learning rate.\n",
    "    scheduler.step()\n",
    "\n",
    "    if batch_idx>-1:\n",
    "        print(f'Train Epoch:', epoch, 'batch:',\n",
    "            batch_idx, 'loss:',\n",
    "            loss.mean())"
   ]
  },
  {
   "cell_type": "code",
   "execution_count": 102,
   "metadata": {},
   "outputs": [],
   "source": [
    "test = DataLoader(tokenized[45:55], shuffle=True)"
   ]
  },
  {
   "cell_type": "code",
   "execution_count": 103,
   "metadata": {},
   "outputs": [
    {
     "name": "stdout",
     "output_type": "stream",
     "text": [
      "cosine tensor([0.9415], grad_fn=<SumBackward1>) == tensor([0.], dtype=torch.float64)\n",
      "1\n",
      "loss: tensor([[-2.8395]], grad_fn=<CopySlices>)\n",
      "cosine tensor([0.9444], grad_fn=<SumBackward1>) == tensor([1.], dtype=torch.float64)\n",
      "1\n",
      "loss: tensor([[0.0572]], grad_fn=<CopySlices>)\n",
      "cosine tensor([0.9626], grad_fn=<SumBackward1>) == tensor([1.], dtype=torch.float64)\n",
      "1\n",
      "loss: tensor([[0.0381]], grad_fn=<CopySlices>)\n",
      "cosine tensor([0.9434], grad_fn=<SumBackward1>) == tensor([0.], dtype=torch.float64)\n",
      "1\n",
      "loss: tensor([[-2.8713]], grad_fn=<CopySlices>)\n",
      "cosine tensor([0.9280], grad_fn=<SumBackward1>) == tensor([1.], dtype=torch.float64)\n",
      "1\n",
      "loss: tensor([[0.0748]], grad_fn=<CopySlices>)\n",
      "cosine tensor([0.9598], grad_fn=<SumBackward1>) == tensor([0.], dtype=torch.float64)\n",
      "1\n",
      "loss: tensor([[-3.2129]], grad_fn=<CopySlices>)\n",
      "cosine tensor([0.9133], grad_fn=<SumBackward1>) == tensor([0.], dtype=torch.float64)\n",
      "1\n",
      "loss: tensor([[-2.4459]], grad_fn=<CopySlices>)\n",
      "cosine tensor([0.9413], grad_fn=<SumBackward1>) == tensor([0.], dtype=torch.float64)\n",
      "1\n",
      "loss: tensor([[-2.8345]], grad_fn=<CopySlices>)\n",
      "cosine tensor([0.9499], grad_fn=<SumBackward1>) == tensor([1.], dtype=torch.float64)\n",
      "1\n",
      "loss: tensor([[0.0514]], grad_fn=<CopySlices>)\n",
      "cosine tensor([0.9418], grad_fn=<SumBackward1>) == tensor([1.], dtype=torch.float64)\n",
      "1\n",
      "loss: tensor([[0.0600]], grad_fn=<CopySlices>)\n"
     ]
    }
   ],
   "source": [
    "for batch_idx, (encodings) in enumerate(test):\n",
    "  #images_1, images_2, targets = images_1.to(device), images_2.to(device), targets.to(device)\n",
    "\n",
    "  # Extract arguments, key_points and labels all from the same batch\n",
    "    args = encodings['arg']\n",
    "    kps = encodings['kp']\n",
    "    labels = encodings['label']\n",
    "\n",
    "    optimizer.zero_grad()\n",
    "    output1, output2 = model(args, kps, labels)\n",
    "        \n",
    "    # AVG of every token\n",
    "    output1 = torch.mean(output1, 1)\n",
    "    output2 = torch.mean(output2, 1)\n",
    "    \n",
    "    cos = torch.nn.CosineSimilarity()\n",
    "    cosine_sim = cos(output1, output2)\n",
    "    print(f'cosine {cosine_sim} == {labels}')\n",
    "    \n",
    "    print(args['input_ids'].shape[0])\n",
    "    loss = torch.Tensor(args['input_ids'].shape[0], 1)\n",
    "    for i in range(0, cosine_sim.shape[0]):\n",
    "        loss[i] = paper_contrastive(cosine_sim[i], labels[i])\n",
    "    #loss_function(output1, output2, labels)\n",
    "    print(f'loss: {loss}')"
   ]
  },
  {
   "cell_type": "code",
   "execution_count": null,
   "metadata": {},
   "outputs": [],
   "source": [
    "for epoch in range(1, epochs + 1):\n",
    "    train(model, None, train_loader, ContrastiveLoss, optimizer, epoch, scheduler)\n",
    "    #test(model, device, test_loader)\n"
   ]
  },
  {
   "cell_type": "code",
   "execution_count": 78,
   "metadata": {},
   "outputs": [],
   "source": [
    "def ContrastiveLoss(output1, output2, labels):\n",
    "    \n",
    "    loss = torch.tensor(0.0)\n",
    "    \n",
    "    for i in range(output1.size(0)):\n",
    "    \n",
    "        loss += compute_contrastive_loss(output1[i], output2[i], labels[i].resize(1), 0.1)\n",
    "        print(loss)\n",
    "    \n",
    "    return loss"
   ]
  },
  {
   "cell_type": "code",
   "execution_count": null,
   "metadata": {},
   "outputs": [],
   "source": []
  }
 ],
 "metadata": {
  "kernelspec": {
   "display_name": "venv2",
   "language": "python",
   "name": "venv2"
  },
  "language_info": {
   "codemirror_mode": {
    "name": "ipython",
    "version": 3
   },
   "file_extension": ".py",
   "mimetype": "text/x-python",
   "name": "python",
   "nbconvert_exporter": "python",
   "pygments_lexer": "ipython3",
   "version": "3.8.10"
  },
  "vscode": {
   "interpreter": {
    "hash": "ede013c901f8a5774d468d6246940287a78a31eaa126b6cb7e1aa2724460e30f"
   }
  }
 },
 "nbformat": 4,
 "nbformat_minor": 4
}
