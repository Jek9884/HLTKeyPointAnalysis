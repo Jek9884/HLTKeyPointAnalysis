{
 "cells": [
  {
   "cell_type": "code",
   "execution_count": 67,
   "metadata": {
    "collapsed": false,
    "jupyter": {
     "outputs_hidden": false
    }
   },
   "outputs": [],
   "source": [
    "import torch\n",
    "from pytorch_metric_learning import losses\n",
    "import data_handler\n",
    "from siamese_network import SiameseNetwork, train, test\n",
    "from transformers import BertModel, BertTokenizer, AdamW, get_linear_schedule_with_warmup\n",
    "from torch.utils.data import DataLoader\n",
    "from custom_losses import ContrastiveLoss\n",
    "import matplotlib.pyplot as plt\n",
    "import pandas as pd\n",
    "import numpy as np\n",
    "from sklearn.metrics import accuracy_score\n",
    "from tqdm import tqdm\n",
    "import itertools as it"
   ]
  },
  {
   "cell_type": "code",
   "execution_count": 24,
   "metadata": {},
   "outputs": [
    {
     "name": "stdout",
     "output_type": "stream",
     "text": [
      "The autoreload extension is already loaded. To reload it, use:\n",
      "  %reload_ext autoreload\n"
     ]
    }
   ],
   "source": [
    "%load_ext autoreload\n",
    "%autoreload 2"
   ]
  },
  {
   "cell_type": "code",
   "execution_count": 25,
   "metadata": {},
   "outputs": [],
   "source": [
    "device = torch.device(2)"
   ]
  },
  {
   "cell_type": "markdown",
   "metadata": {},
   "source": [
    "# Data Management"
   ]
  },
  {
   "cell_type": "code",
   "execution_count": 26,
   "metadata": {},
   "outputs": [],
   "source": [
    "df_data, _ = data_handler.load(path=\"dataset/\", filename_train=\"train.csv\", sep_char='#')"
   ]
  },
  {
   "cell_type": "code",
   "execution_count": 27,
   "metadata": {},
   "outputs": [
    {
     "data": {
      "text/html": [
       "<div>\n",
       "<style scoped>\n",
       "    .dataframe tbody tr th:only-of-type {\n",
       "        vertical-align: middle;\n",
       "    }\n",
       "\n",
       "    .dataframe tbody tr th {\n",
       "        vertical-align: top;\n",
       "    }\n",
       "\n",
       "    .dataframe thead th {\n",
       "        text-align: right;\n",
       "    }\n",
       "</style>\n",
       "<table border=\"1\" class=\"dataframe\">\n",
       "  <thead>\n",
       "    <tr style=\"text-align: right;\">\n",
       "      <th></th>\n",
       "      <th>arg_id</th>\n",
       "      <th>argument</th>\n",
       "      <th>key_point_id</th>\n",
       "      <th>key_point</th>\n",
       "      <th>topic</th>\n",
       "      <th>stance</th>\n",
       "      <th>label</th>\n",
       "    </tr>\n",
       "  </thead>\n",
       "  <tbody>\n",
       "    <tr>\n",
       "      <th>0</th>\n",
       "      <td>arg_11_122</td>\n",
       "      <td>we shouldn't ban human cloning for risk the vi...</td>\n",
       "      <td>kp_11_0</td>\n",
       "      <td>Cloning can be used for organ replication</td>\n",
       "      <td>We should ban human cloning</td>\n",
       "      <td>-1</td>\n",
       "      <td>0.0</td>\n",
       "    </tr>\n",
       "    <tr>\n",
       "      <th>1</th>\n",
       "      <td>arg_13_95</td>\n",
       "      <td>use of child actors gives us a lot of great sh...</td>\n",
       "      <td>kp_13_2</td>\n",
       "      <td>Child performers are necessary for roles</td>\n",
       "      <td>We should ban the use of child actors</td>\n",
       "      <td>-1</td>\n",
       "      <td>1.0</td>\n",
       "    </tr>\n",
       "    <tr>\n",
       "      <th>2</th>\n",
       "      <td>arg_18_186</td>\n",
       "      <td>urbanization leads to deforestation and increa...</td>\n",
       "      <td>kp_18_5</td>\n",
       "      <td>Urbanization harms the environment</td>\n",
       "      <td>We should fight urbanization</td>\n",
       "      <td>1</td>\n",
       "      <td>1.0</td>\n",
       "    </tr>\n",
       "    <tr>\n",
       "      <th>3</th>\n",
       "      <td>arg_0_13</td>\n",
       "      <td>assisted suicide gives people control over the...</td>\n",
       "      <td>kp_0_2</td>\n",
       "      <td>People should have the freedom to choose to en...</td>\n",
       "      <td>Assisted suicide should be a criminal offence</td>\n",
       "      <td>-1</td>\n",
       "      <td>1.0</td>\n",
       "    </tr>\n",
       "    <tr>\n",
       "      <th>4</th>\n",
       "      <td>arg_25_128</td>\n",
       "      <td>journalism is a public good, that it has broad...</td>\n",
       "      <td>kp_25_5</td>\n",
       "      <td>Subsidy increases objectivity in reporting</td>\n",
       "      <td>We should subsidize journalism</td>\n",
       "      <td>1</td>\n",
       "      <td>0.0</td>\n",
       "    </tr>\n",
       "  </tbody>\n",
       "</table>\n",
       "</div>"
      ],
      "text/plain": [
       "       arg_id                                           argument key_point_id  \\\n",
       "0  arg_11_122  we shouldn't ban human cloning for risk the vi...      kp_11_0   \n",
       "1   arg_13_95  use of child actors gives us a lot of great sh...      kp_13_2   \n",
       "2  arg_18_186  urbanization leads to deforestation and increa...      kp_18_5   \n",
       "3    arg_0_13  assisted suicide gives people control over the...       kp_0_2   \n",
       "4  arg_25_128  journalism is a public good, that it has broad...      kp_25_5   \n",
       "\n",
       "                                           key_point  \\\n",
       "0          Cloning can be used for organ replication   \n",
       "1           Child performers are necessary for roles   \n",
       "2                 Urbanization harms the environment   \n",
       "3  People should have the freedom to choose to en...   \n",
       "4         Subsidy increases objectivity in reporting   \n",
       "\n",
       "                                           topic  stance  label  \n",
       "0                    We should ban human cloning      -1    0.0  \n",
       "1          We should ban the use of child actors      -1    1.0  \n",
       "2                   We should fight urbanization       1    1.0  \n",
       "3  Assisted suicide should be a criminal offence      -1    1.0  \n",
       "4                 We should subsidize journalism       1    0.0  "
      ]
     },
     "execution_count": 27,
     "metadata": {},
     "output_type": "execute_result"
    }
   ],
   "source": [
    "df_data.head()"
   ]
  },
  {
   "cell_type": "code",
   "execution_count": 28,
   "metadata": {},
   "outputs": [
    {
     "name": "stdout",
     "output_type": "stream",
     "text": [
      "<class 'pandas.core.frame.DataFrame'>\n",
      "RangeIndex: 20635 entries, 0 to 20634\n",
      "Data columns (total 7 columns):\n",
      " #   Column        Non-Null Count  Dtype  \n",
      "---  ------        --------------  -----  \n",
      " 0   arg_id        20635 non-null  object \n",
      " 1   argument      20635 non-null  object \n",
      " 2   key_point_id  20635 non-null  object \n",
      " 3   key_point     20635 non-null  object \n",
      " 4   topic         20635 non-null  object \n",
      " 5   stance        20635 non-null  int64  \n",
      " 6   label         20635 non-null  float64\n",
      "dtypes: float64(1), int64(1), object(5)\n",
      "memory usage: 1.1+ MB\n"
     ]
    }
   ],
   "source": [
    "df_data.info()"
   ]
  },
  {
   "cell_type": "code",
   "execution_count": 29,
   "metadata": {},
   "outputs": [
    {
     "data": {
      "text/plain": [
       "0.0    16375\n",
       "1.0     4260\n",
       "Name: label, dtype: int64"
      ]
     },
     "execution_count": 29,
     "metadata": {},
     "output_type": "execute_result"
    }
   ],
   "source": [
    "df_data['label'].value_counts()"
   ]
  },
  {
   "cell_type": "code",
   "execution_count": 30,
   "metadata": {},
   "outputs": [
    {
     "data": {
      "text/plain": [
       "<AxesSubplot: title={'center': 'Labels Proportions in Dataset'}>"
      ]
     },
     "execution_count": 30,
     "metadata": {},
     "output_type": "execute_result"
    },
    {
     "data": {
      "image/png": "[encoded data removed]",
      "text/plain": [
       "<Figure size 640x480 with 1 Axes>"
      ]
     },
     "metadata": {},
     "output_type": "display_data"
    }
   ],
   "source": [
    "df_data['label'].value_counts().plot.bar(title='Labels Proportions in Dataset')"
   ]
  },
  {
   "cell_type": "code",
   "execution_count": 31,
   "metadata": {},
   "outputs": [
    {
     "name": "stdout",
     "output_type": "stream",
     "text": [
      "zero_train:  13100\n",
      "one_train:  3408\n",
      "zero_val:  3275\n",
      "one_val:  852\n"
     ]
    }
   ],
   "source": [
    "# Perform a stratified split dividing it into 80% training set and 20% validation set\n",
    "df_train, df_val = data_handler.split_train_data(df_data, perc_split=0.8)"
   ]
  },
  {
   "cell_type": "code",
   "execution_count": 32,
   "metadata": {},
   "outputs": [
    {
     "name": "stdout",
     "output_type": "stream",
     "text": [
      "<class 'pandas.core.frame.DataFrame'>\n",
      "Int64Index: 16508 entries, 0 to 16471\n",
      "Data columns (total 7 columns):\n",
      " #   Column        Non-Null Count  Dtype  \n",
      "---  ------        --------------  -----  \n",
      " 0   arg_id        16508 non-null  object \n",
      " 1   argument      16508 non-null  object \n",
      " 2   key_point_id  16508 non-null  object \n",
      " 3   key_point     16508 non-null  object \n",
      " 4   topic         16508 non-null  object \n",
      " 5   stance        16508 non-null  int64  \n",
      " 6   label         16508 non-null  float64\n",
      "dtypes: float64(1), int64(1), object(5)\n",
      "memory usage: 1.0+ MB\n"
     ]
    }
   ],
   "source": [
    "df_train.info()"
   ]
  },
  {
   "cell_type": "code",
   "execution_count": 33,
   "metadata": {},
   "outputs": [
    {
     "name": "stdout",
     "output_type": "stream",
     "text": [
      "<class 'pandas.core.frame.DataFrame'>\n",
      "Int64Index: 4127 entries, 16520 to 20634\n",
      "Data columns (total 7 columns):\n",
      " #   Column        Non-Null Count  Dtype  \n",
      "---  ------        --------------  -----  \n",
      " 0   arg_id        4127 non-null   object \n",
      " 1   argument      4127 non-null   object \n",
      " 2   key_point_id  4127 non-null   object \n",
      " 3   key_point     4127 non-null   object \n",
      " 4   topic         4127 non-null   object \n",
      " 5   stance        4127 non-null   int64  \n",
      " 6   label         4127 non-null   float64\n",
      "dtypes: float64(1), int64(1), object(5)\n",
      "memory usage: 257.9+ KB\n"
     ]
    }
   ],
   "source": [
    "df_val.info()"
   ]
  },
  {
   "cell_type": "code",
   "execution_count": 34,
   "metadata": {},
   "outputs": [
    {
     "data": {
      "text/plain": [
       "<AxesSubplot: title={'center': 'Labels Proportions in Training set'}>"
      ]
     },
     "execution_count": 34,
     "metadata": {},
     "output_type": "execute_result"
    },
    {
     "data": {
      "image/png": "[encoded data removed]",
      "text/plain": [
       "<Figure size 640x480 with 1 Axes>"
      ]
     },
     "metadata": {},
     "output_type": "display_data"
    }
   ],
   "source": [
    "df_train['label'].value_counts().plot.bar(title='Labels Proportions in Training set')"
   ]
  },
  {
   "cell_type": "code",
   "execution_count": 35,
   "metadata": {},
   "outputs": [
    {
     "data": {
      "text/plain": [
       "<AxesSubplot: title={'center': 'Labels Proportions in Validation set'}>"
      ]
     },
     "execution_count": 35,
     "metadata": {},
     "output_type": "execute_result"
    },
    {
     "data": {
      "image/png": "[encoded data removed]",
      "text/plain": [
       "<Figure size 640x480 with 1 Axes>"
      ]
     },
     "metadata": {},
     "output_type": "display_data"
    }
   ],
   "source": [
    "df_val['label'].value_counts().plot.bar(title='Labels Proportions in Validation set')"
   ]
  },
  {
   "cell_type": "code",
   "execution_count": 36,
   "metadata": {},
   "outputs": [],
   "source": [
    "# Concatenate topics and keypoints, as stated in the paper\n",
    "df_train = data_handler.concatenate_topics(df_train)\n",
    "df_val = data_handler.concatenate_topics(df_val)"
   ]
  },
  {
   "cell_type": "code",
   "execution_count": 37,
   "metadata": {},
   "outputs": [
    {
     "data": {
      "text/plain": [
       "0        0.0\n",
       "1        0.0\n",
       "2        0.0\n",
       "3        0.0\n",
       "4        0.0\n",
       "        ... \n",
       "16503    1.0\n",
       "16504    1.0\n",
       "16505    1.0\n",
       "16506    1.0\n",
       "16507    1.0\n",
       "Name: label, Length: 16508, dtype: float64"
      ]
     },
     "execution_count": 37,
     "metadata": {},
     "output_type": "execute_result"
    }
   ],
   "source": [
    "df_train.label"
   ]
  },
  {
   "cell_type": "code",
   "execution_count": 39,
   "metadata": {},
   "outputs": [
    {
     "name": "stdout",
     "output_type": "stream",
     "text": [
      "<class 'pandas.core.frame.DataFrame'>\n",
      "RangeIndex: 16508 entries, 0 to 16507\n",
      "Data columns (total 7 columns):\n",
      " #   Column        Non-Null Count  Dtype  \n",
      "---  ------        --------------  -----  \n",
      " 0   index         16508 non-null  int64  \n",
      " 1   arg_id        16508 non-null  object \n",
      " 2   argument      16508 non-null  object \n",
      " 3   key_point_id  16508 non-null  object \n",
      " 4   stance        16508 non-null  int64  \n",
      " 5   label         16508 non-null  float64\n",
      " 6   key_points    16508 non-null  object \n",
      "dtypes: float64(1), int64(2), object(4)\n",
      "memory usage: 902.9+ KB\n",
      "--------\n",
      "<class 'pandas.core.frame.DataFrame'>\n",
      "RangeIndex: 4127 entries, 0 to 4126\n",
      "Data columns (total 7 columns):\n",
      " #   Column        Non-Null Count  Dtype  \n",
      "---  ------        --------------  -----  \n",
      " 0   index         4127 non-null   int64  \n",
      " 1   arg_id        4127 non-null   object \n",
      " 2   argument      4127 non-null   object \n",
      " 3   key_point_id  4127 non-null   object \n",
      " 4   stance        4127 non-null   int64  \n",
      " 5   label         4127 non-null   float64\n",
      " 6   key_points    4127 non-null   object \n",
      "dtypes: float64(1), int64(2), object(4)\n",
      "memory usage: 225.8+ KB\n"
     ]
    }
   ],
   "source": [
    "df_train.info()\n",
    "print('--------')\n",
    "df_val.info()"
   ]
  },
  {
   "cell_type": "code",
   "execution_count": 40,
   "metadata": {},
   "outputs": [],
   "source": [
    "df_train = df_train[12850:13350]\n",
    "df_train = df_train.reset_index()\n",
    "#df_train[:100]"
   ]
  },
  {
   "cell_type": "code",
   "execution_count": 41,
   "metadata": {},
   "outputs": [],
   "source": [
    "n_words = pd.DataFrame()\n",
    "n_words['words_per_arg_train'] = df_train['argument'].str.split().apply(len)\n",
    "n_words['words_per_arg_val'] = df_val['argument'].str.split().apply(len)\n",
    "n_words['words_per_kp_train'] = df_train['key_points'].str.split().apply(len)\n",
    "n_words['words_per_kp_val'] = df_val['key_points'].str.split().apply(len)"
   ]
  },
  {
   "cell_type": "markdown",
   "metadata": {},
   "source": [
    "Considerazioni varie..."
   ]
  },
  {
   "cell_type": "code",
   "execution_count": 42,
   "metadata": {},
   "outputs": [
    {
     "data": {
      "text/plain": [
       "<AxesSubplot: >"
      ]
     },
     "execution_count": 42,
     "metadata": {},
     "output_type": "execute_result"
    },
    {
     "data": {
      "image/png": "[encoded data removed]",
      "text/plain": [
       "<Figure size 1000x500 with 1 Axes>"
      ]
     },
     "metadata": {},
     "output_type": "display_data"
    }
   ],
   "source": [
    "n_words.plot.box(figsize=(10, 5))"
   ]
  },
  {
   "cell_type": "code",
   "execution_count": 44,
   "metadata": {},
   "outputs": [
    {
     "name": "stderr",
     "output_type": "stream",
     "text": [
      "/storagenfs/a.capurso1/HLTKeyPointAnalysis/venv/lib/python3.8/site-packages/transformers/tokenization_utils_base.py:2336: FutureWarning: The `pad_to_max_length` argument is deprecated and will be removed in a future version, use `padding=True` or `padding='longest'` to pad to the longest sequence in the batch, or use `padding='max_length'` to pad to a max length. In this case, you can give a specific length with `max_length` (e.g. `max_length=45`) or leave max_length to None to pad to the maximal input size of the model (e.g. 512 for Bert).\n",
      "  warnings.warn(\n",
      "/storagenfs/a.capurso1/HLTKeyPointAnalysis/venv/lib/python3.8/site-packages/transformers/tokenization_utils_base.py:2336: FutureWarning: The `pad_to_max_length` argument is deprecated and will be removed in a future version, use `padding=True` or `padding='longest'` to pad to the longest sequence in the batch, or use `padding='max_length'` to pad to a max length. In this case, you can give a specific length with `max_length` (e.g. `max_length=45`) or leave max_length to None to pad to the maximal input size of the model (e.g. 512 for Bert).\n",
      "  warnings.warn(\n"
     ]
    }
   ],
   "source": [
    "# Load our model's (bert-base-uncased) tokenizer\n",
    "tokenizer = BertTokenizer.from_pretrained('bert-base-uncased', do_lower_case=True)\n",
    "\n",
    "# Tokenize data\n",
    "columns_list = ['argument', 'key_points', 'label']\n",
    "tokenized_tr = data_handler.tokenize_df(df_train[columns_list], tokenizer, max_length=60)\n",
    "tokenized_val = data_handler.tokenize_df(df_val[columns_list], tokenizer, max_length=60)"
   ]
  },
  {
   "cell_type": "code",
   "execution_count": 45,
   "metadata": {},
   "outputs": [
    {
     "name": "stdout",
     "output_type": "stream",
     "text": [
      "Vocabulary size of tokenizer: 30522 \n",
      "Context size: 512\n"
     ]
    }
   ],
   "source": [
    "print(f'Vocabulary size of tokenizer:', tokenizer.vocab_size, '\\nContext size:', tokenizer.model_max_length)"
   ]
  },
  {
   "cell_type": "code",
   "execution_count": 48,
   "metadata": {},
   "outputs": [
    {
     "name": "stderr",
     "output_type": "stream",
     "text": [
      "Some weights of the model checkpoint at bert-base-uncased were not used when initializing BertModel: ['cls.predictions.transform.LayerNorm.weight', 'cls.predictions.transform.dense.bias', 'cls.seq_relationship.weight', 'cls.predictions.decoder.weight', 'cls.predictions.transform.dense.weight', 'cls.predictions.bias', 'cls.predictions.transform.LayerNorm.bias', 'cls.seq_relationship.bias']\n",
      "- This IS expected if you are initializing BertModel from the checkpoint of a model trained on another task or with another architecture (e.g. initializing a BertForSequenceClassification model from a BertForPreTraining model).\n",
      "- This IS NOT expected if you are initializing BertModel from the checkpoint of a model that you expect to be exactly identical (initializing a BertForSequenceClassification model from a BertForSequenceClassification model).\n"
     ]
    }
   ],
   "source": [
    "model = SiameseNetwork(bert_type=BertModel.from_pretrained('bert-base-uncased'))\n",
    "\n",
    "batch_size = 8\n",
    "\n",
    "train_loader = DataLoader(tokenized_tr, shuffle=True, batch_size=batch_size, pin_memory=True)\n",
    "\n",
    "#train_loss = ContrastiveLoss()\n",
    "train_loss = losses.ContrastiveLoss()\n",
    "\n",
    "optimizer = torch.optim.AdamW(model.parameters(),\n",
    "                  lr = 2e-5, # args.learning_rate - default is 5e-5, our notebook had 2e-5\n",
    "                  eps = 1e-8 # args.adam_epsilon  - default is 1e-8.\n",
    "                )\n",
    "\n",
    "# Batch size: 16, 32\n",
    "# Learning rate (Adam): 5e-5, 3e-5, 2e-5\n",
    "# Number of epochs: 2, 3, 4\n",
    "\n",
    "# The BERT authors recommend between 2 and 4.\n",
    "epochs = 1\n",
    "\n",
    "# Total number of training steps is [number of batches] x [number of epochs]. \n",
    "# (Note that this is not the same as the number of training samples).\n",
    "total_steps = len(train_loader) * epochs\n",
    "\n",
    "# Create the learning rate scheduler.\n",
    "scheduler = get_linear_schedule_with_warmup(optimizer, \n",
    "                                            num_warmup_steps = 0, # Default value in run_glue.py\n",
    "                                            num_training_steps = total_steps)"
   ]
  },
  {
   "cell_type": "code",
   "execution_count": 21,
   "metadata": {},
   "outputs": [],
   "source": [
    "'''\n",
    "-y \u0001 log(^y) + (1 - y) \u0001 log(1 - ^y)\n",
    "where ^y is the cosine similarity of the embeddings,\n",
    "and y reflects whether a pair matches (1) or not (0).\n",
    "'''\n",
    "def paper_contrastive(cosine, label):\n",
    "    \n",
    "    #cosine[cosine == 0] = 1e-8\n",
    "    #cosine[cosine == 1] = 0.99\n",
    "    \n",
    "    log_1 = torch.nan_to_num(torch.log(cosine), nan=-1e5)\n",
    "    log_2 = torch.nan_to_num(torch.log(1-cosine), nan=-1e5)\n",
    "    \n",
    "    #print(f'cosine {log_1.shape} {log_2.shape}')\n",
    "    \n",
    "    contr = torch.mul((-label).double(), log_1.double())+ \\\n",
    "            torch.mul((1-label).double(), log_2.double())\n",
    "    return contr"
   ]
  },
  {
   "cell_type": "code",
   "execution_count": 52,
   "metadata": {},
   "outputs": [
    {
     "data": {
      "text/plain": [
       "7"
      ]
     },
     "execution_count": 52,
     "metadata": {},
     "output_type": "execute_result"
    }
   ],
   "source": [
    "model.to(device)\n",
    "5+2\n",
    "#epoch.to(device)\n",
    "#train_loader.to(device)\n",
    "#optimizer.to(device)\n",
    "#scheduler.to(device)"
   ]
  },
  {
   "cell_type": "code",
   "execution_count": null,
   "metadata": {},
   "outputs": [],
   "source": [
    "loss_function = torch.nn.MSELoss()\n",
    "\n",
    "train(model, device, train_loader, loss_function, optimizer, epochs, scheduler, ['accuracy'])"
   ]
  },
  {
   "cell_type": "code",
   "execution_count": 68,
   "metadata": {},
   "outputs": [],
   "source": [
    "test_data = DataLoader(tokenized_val[0:10], shuffle=True)"
   ]
  },
  {
   "cell_type": "code",
   "execution_count": 74,
   "metadata": {},
   "outputs": [],
   "source": [
    "preds = test(model, device, test_data, loss_function, ['accuracy'])"
   ]
  },
  {
   "cell_type": "code",
   "execution_count": 76,
   "metadata": {},
   "outputs": [],
   "source": [
    "params = {\n",
    "    'batch_size': [4, 8],\n",
    "    'loss': [torch.nn.MSELoss()],\n",
    "    'optimizer': ['adam'],\n",
    "    'lr': [1e-3, 1e-4, 1e-5, 1e-6, 1e-7, 1e-8],\n",
    "    'eps': [1e-8, 1e-6, 1e-7, 1e-10],\n",
    "    'epochs': [2, 3, 4],\n",
    "    'warmup_steps': [0,1e1,1e2,1e3],\n",
    "    'weight_decay': [1e-1, 1e-2, 1e-5]\n",
    "}"
   ]
  },
  {
   "cell_type": "code",
   "execution_count": 81,
   "metadata": {},
   "outputs": [],
   "source": [
    "def grid_search(train_data, val_data, model_type, params, metrics, device):\n",
    "    \n",
    "    keys, values = zip(*params.items())\n",
    "    combo_list = list(it.product(*(values)))\n",
    "\n",
    "    \n",
    "    res_vec = []\n",
    "    \n",
    "    for i in tqdm(range(len(combo_list))):\n",
    "        \n",
    "        res_dict = {\n",
    "            'batch_size': combo_list[i][0],\n",
    "            'loss': combo_list[i][1],\n",
    "            'optimizer': combo_list[i][2],\n",
    "            'lr': combo_list[i][3],\n",
    "            'eps': combo_list[i][4],\n",
    "            'epochs': combo_list[i][5],\n",
    "            'warmup_steps': combo_list[i][6],\n",
    "            'weight_decay' : combo_list[i][7]\n",
    "        }\n",
    "        \n",
    "        model = SiameseNetwork(bert_type=BertModel.from_pretrained(model_type))\n",
    "        model.to(device)\n",
    "        \n",
    "        train_loader = DataLoader(train_data, shuffle=True, batch_size=res_dict['batch_size'], pin_memory=True)\n",
    "        \n",
    "        optimizer=res_dict['optimizer']\n",
    "        \n",
    "        if(optimizer == 'adam'):\n",
    "            optimizer= torch.optim.AdamW(model.parameters(),\n",
    "                  lr = res_dict['lr'], \n",
    "                  eps = res_dict['eps'] \n",
    "        )\n",
    "            \n",
    "        # Total number of training steps is [number of batches] x [number of epochs]. \n",
    "        # (Note that this is not the same as the number of training samples).\n",
    "        total_steps = len(train_loader) * res_dict['epochs']\n",
    "\n",
    "        # Create the learning rate scheduler.\n",
    "        scheduler = get_linear_schedule_with_warmup(optimizer, \n",
    "                                            num_warmup_steps = res_dict['warmup_steps'],\n",
    "                                            num_training_steps = total_steps)\n",
    "        \n",
    "        train_res = train(model, device, train_loader, res_dict['loss'], optimizer, res_dict['epochs'], scheduler, metrics, verbose=False)\n",
    "        #train(model, device, train_loader, res_dict['loss'], optimizer, res_dict['epochs'], scheduler, log=False)\n",
    "        \n",
    "        \n",
    "        val_loader = DataLoader(val_data, shuffle=True, pin_memory=True)\n",
    "        \n",
    "        #val_res = test(model, device, val_loader, res_dict['loss'], res_dict['metric'])\n",
    "        test(model, device, val_loader, res_dict['loss'], metrics)\n",
    "        \n",
    "        #res_dict['train_score'] = train_res\n",
    "        #res_dict['val_score'] = val_res\n",
    "        res_vec.append(res_dict)\n",
    "        \n",
    "    return res_vec   \n",
    "        "
   ]
  },
  {
   "cell_type": "code",
   "execution_count": null,
   "metadata": {},
   "outputs": [],
   "source": [
    "from siamese_network import SiameseNetwork\n",
    "res_vec = grid_search(tokenized_tr, tokenized_val, 'bert-base-uncased', params, ['accuracy'], device)"
   ]
  },
  {
   "cell_type": "code",
   "execution_count": 39,
   "metadata": {},
   "outputs": [
    {
     "data": {
      "text/plain": [
       "500"
      ]
     },
     "execution_count": 39,
     "metadata": {},
     "output_type": "execute_result"
    }
   ],
   "source": [
    "len(train_loader.dataset)"
   ]
  }
 ],
 "metadata": {
  "kernelspec": {
   "display_name": "venv",
   "language": "python",
   "name": "venv"
  },
  "language_info": {
   "codemirror_mode": {
    "name": "ipython",
    "version": 3
   },
   "file_extension": ".py",
   "mimetype": "text/x-python",
   "name": "python",
   "nbconvert_exporter": "python",
   "pygments_lexer": "ipython3",
   "version": "3.8.10"
  },
  "vscode": {
   "interpreter": {
    "hash": "ede013c901f8a5774d468d6246940287a78a31eaa126b6cb7e1aa2724460e30f"
   }
  }
 },
 "nbformat": 4,
 "nbformat_minor": 4
}
