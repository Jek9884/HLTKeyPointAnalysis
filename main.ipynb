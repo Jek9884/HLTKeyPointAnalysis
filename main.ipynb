{
 "cells": [
  {
   "cell_type": "code",
   "execution_count": 55,
   "metadata": {
    "collapsed": false,
    "jupyter": {
     "outputs_hidden": false
    }
   },
   "outputs": [],
   "source": [
    "import torch\n",
    "from pytorch_metric_learning import losses\n",
    "import data_handler\n",
    "from siamese_network import SiameseNetwork, train\n",
    "from transformers import BertModel, BertTokenizer, AdamW, get_linear_schedule_with_warmup\n",
    "from torch.utils.data import DataLoader\n",
    "from custom_losses import ContrastiveLoss\n",
    "import matplotlib.pyplot as plt\n",
    "import pandas as pd"
   ]
  },
  {
   "cell_type": "code",
   "execution_count": 2,
   "metadata": {},
   "outputs": [],
   "source": [
    "%load_ext autoreload\n",
    "%autoreload 2"
   ]
  },
  {
   "cell_type": "code",
   "execution_count": 3,
   "metadata": {
    "collapsed": false,
    "jupyter": {
     "outputs_hidden": false
    }
   },
   "outputs": [
    {
     "name": "stdout",
     "output_type": "stream",
     "text": [
      "torch cuda available: True\n"
     ]
    }
   ],
   "source": [
    "torch.zeros(1).cuda()\n",
    "#print(f\"torch version: {torch.__version__}\")\n",
    "\n",
    "DEVICE = torch.device(\"cuda\") if torch.cuda.is_available() else torch.device(\"cpu\")\n",
    "\n",
    "print(f\"torch cuda available: {torch.cuda.is_available()}\")"
   ]
  },
  {
   "cell_type": "markdown",
   "metadata": {},
   "source": [
    "# Data Management"
   ]
  },
  {
   "cell_type": "code",
   "execution_count": 3,
   "metadata": {},
   "outputs": [],
   "source": [
    "df_data, _ = data_handler.load(path=\"dataset/\", filename_train=\"train.csv\", sep_char='#')"
   ]
  },
  {
   "cell_type": "code",
   "execution_count": 4,
   "metadata": {},
   "outputs": [
    {
     "name": "stdout",
     "output_type": "stream",
     "text": [
      "<class 'pandas.core.frame.DataFrame'>\n",
      "RangeIndex: 20635 entries, 0 to 20634\n",
      "Data columns (total 4 columns):\n",
      " #   Column     Non-Null Count  Dtype  \n",
      "---  ------     --------------  -----  \n",
      " 0   argument   20635 non-null  object \n",
      " 1   key_point  20635 non-null  object \n",
      " 2   topic      20635 non-null  object \n",
      " 3   label      20635 non-null  float64\n",
      "dtypes: float64(1), object(3)\n",
      "memory usage: 645.0+ KB\n"
     ]
    }
   ],
   "source": [
    "df_data.info()"
   ]
  },
  {
   "cell_type": "code",
   "execution_count": 32,
   "metadata": {},
   "outputs": [
    {
     "data": {
      "text/plain": [
       "0.0    16375\n",
       "1.0     4260\n",
       "Name: label, dtype: int64"
      ]
     },
     "execution_count": 32,
     "metadata": {},
     "output_type": "execute_result"
    }
   ],
   "source": [
    "df_data['label'].value_counts()"
   ]
  },
  {
   "cell_type": "code",
   "execution_count": 44,
   "metadata": {},
   "outputs": [
    {
     "data": {
      "text/plain": [
       "<AxesSubplot: title={'center': 'Labels Proportions in Dataset'}>"
      ]
     },
     "execution_count": 44,
     "metadata": {},
     "output_type": "execute_result"
    },
    {
     "data": {
      "image/png": "[encoded data removed]",
      "text/plain": [
       "<Figure size 640x480 with 1 Axes>"
      ]
     },
     "metadata": {},
     "output_type": "display_data"
    }
   ],
   "source": [
    "df_data['label'].value_counts().plot.bar(title='Labels Proportions in Dataset')"
   ]
  },
  {
   "cell_type": "code",
   "execution_count": 38,
   "metadata": {},
   "outputs": [
    {
     "name": "stdout",
     "output_type": "stream",
     "text": [
      "zero_train:  13100\n",
      "one_train:  3408\n",
      "zero_val:  3275\n",
      "one_val:  852\n"
     ]
    }
   ],
   "source": [
    "# Perform a stratified split dividing it into 80% training set and 20% validation set\n",
    "df_train, df_val = data_handler.split_train_data(df_data, perc_split=0.8)"
   ]
  },
  {
   "cell_type": "code",
   "execution_count": 39,
   "metadata": {},
   "outputs": [
    {
     "name": "stdout",
     "output_type": "stream",
     "text": [
      "<class 'pandas.core.frame.DataFrame'>\n",
      "Int64Index: 16508 entries, 0 to 16471\n",
      "Data columns (total 4 columns):\n",
      " #   Column     Non-Null Count  Dtype  \n",
      "---  ------     --------------  -----  \n",
      " 0   argument   16508 non-null  object \n",
      " 1   key_point  16508 non-null  object \n",
      " 2   topic      16508 non-null  object \n",
      " 3   label      16508 non-null  float64\n",
      "dtypes: float64(1), object(3)\n",
      "memory usage: 644.8+ KB\n"
     ]
    }
   ],
   "source": [
    "df_train.info()"
   ]
  },
  {
   "cell_type": "code",
   "execution_count": 40,
   "metadata": {},
   "outputs": [
    {
     "name": "stdout",
     "output_type": "stream",
     "text": [
      "<class 'pandas.core.frame.DataFrame'>\n",
      "Int64Index: 4127 entries, 16520 to 20634\n",
      "Data columns (total 4 columns):\n",
      " #   Column     Non-Null Count  Dtype  \n",
      "---  ------     --------------  -----  \n",
      " 0   argument   4127 non-null   object \n",
      " 1   key_point  4127 non-null   object \n",
      " 2   topic      4127 non-null   object \n",
      " 3   label      4127 non-null   float64\n",
      "dtypes: float64(1), object(3)\n",
      "memory usage: 161.2+ KB\n"
     ]
    }
   ],
   "source": [
    "df_val.info()"
   ]
  },
  {
   "cell_type": "code",
   "execution_count": 43,
   "metadata": {},
   "outputs": [
    {
     "data": {
      "text/plain": [
       "<AxesSubplot: title={'center': 'Labels Proportions in Training set'}>"
      ]
     },
     "execution_count": 43,
     "metadata": {},
     "output_type": "execute_result"
    },
    {
     "data": {
      "image/png": "[encoded data removed]",
      "text/plain": [
       "<Figure size 640x480 with 1 Axes>"
      ]
     },
     "metadata": {},
     "output_type": "display_data"
    }
   ],
   "source": [
    "df_train['label'].value_counts().plot.bar(title='Labels Proportions in Training set')"
   ]
  },
  {
   "cell_type": "code",
   "execution_count": 42,
   "metadata": {},
   "outputs": [
    {
     "data": {
      "text/plain": [
       "<AxesSubplot: >"
      ]
     },
     "execution_count": 42,
     "metadata": {},
     "output_type": "execute_result"
    },
    {
     "data": {
      "image/png": "[encoded data removed]",
      "text/plain": [
       "<Figure size 640x480 with 1 Axes>"
      ]
     },
     "metadata": {},
     "output_type": "display_data"
    }
   ],
   "source": [
    "df_val['label'].value_counts().plot.bar(title='Labels Proportions in Validation set')"
   ]
  },
  {
   "cell_type": "code",
   "execution_count": 46,
   "metadata": {},
   "outputs": [],
   "source": [
    "# Concatenate topics and keypoints, as stated in the paper\n",
    "df_train = data_handler.concatenate_topics(df_train)\n",
    "df_val = data_handler.concatenate_topics(df_val)"
   ]
  },
  {
   "cell_type": "code",
   "execution_count": 49,
   "metadata": {},
   "outputs": [
    {
     "name": "stdout",
     "output_type": "stream",
     "text": [
      "<class 'pandas.core.frame.DataFrame'>\n",
      "RangeIndex: 16508 entries, 0 to 16507\n",
      "Data columns (total 3 columns):\n",
      " #   Column      Non-Null Count  Dtype  \n",
      "---  ------      --------------  -----  \n",
      " 0   args        16508 non-null  object \n",
      " 1   key_points  16508 non-null  object \n",
      " 2   labels      16508 non-null  float64\n",
      "dtypes: float64(1), object(2)\n",
      "memory usage: 387.0+ KB\n",
      "--------\n",
      "<class 'pandas.core.frame.DataFrame'>\n",
      "RangeIndex: 4127 entries, 0 to 4126\n",
      "Data columns (total 3 columns):\n",
      " #   Column      Non-Null Count  Dtype  \n",
      "---  ------      --------------  -----  \n",
      " 0   args        4127 non-null   object \n",
      " 1   key_points  4127 non-null   object \n",
      " 2   labels      4127 non-null   float64\n",
      "dtypes: float64(1), object(2)\n",
      "memory usage: 96.9+ KB\n"
     ]
    }
   ],
   "source": [
    "df_train.info()\n",
    "print('--------')\n",
    "df_val.info()"
   ]
  },
  {
   "cell_type": "code",
   "execution_count": 52,
   "metadata": {},
   "outputs": [],
   "source": [
    "df_train = df_train[13200:13500]\n",
    "df_train = df_train.reset_index()\n",
    "df_train[:100]"
   ]
  },
  {
   "cell_type": "code",
   "execution_count": 57,
   "metadata": {},
   "outputs": [],
   "source": [
    "n_words = pd.DataFrame()\n",
    "n_words['words_per_arg_train'] = df_train['args'].str.split().apply(len)\n",
    "n_words['words_per_arg_val'] = df_val['args'].str.split().apply(len)\n",
    "n_words['words_per_kp_train'] = df_train['key_points'].str.split().apply(len)\n",
    "n_words['words_per_kp_val'] = df_val['key_points'].str.split().apply(len)"
   ]
  },
  {
   "cell_type": "markdown",
   "metadata": {},
   "source": [
    "Considerazioni varie..."
   ]
  },
  {
   "cell_type": "code",
   "execution_count": 60,
   "metadata": {},
   "outputs": [
    {
     "data": {
      "text/plain": [
       "<AxesSubplot: >"
      ]
     },
     "execution_count": 60,
     "metadata": {},
     "output_type": "execute_result"
    },
    {
     "data": {
      "image/png": "[encoded data removed]",
      "text/plain": [
       "<Figure size 1000x500 with 1 Axes>"
      ]
     },
     "metadata": {},
     "output_type": "display_data"
    }
   ],
   "source": [
    "n_words.plot.box(figsize=(10, 5))"
   ]
  },
  {
   "cell_type": "code",
   "execution_count": 68,
   "metadata": {},
   "outputs": [],
   "source": [
    "# Load our model's (bert-base-uncased) tokenizer\n",
    "tokenizer = BertTokenizer.from_pretrained('bert-base-uncased', do_lower_case=True)\n",
    "\n",
    "# Tokenize data\n",
    "tokenized = data_handler.tokenize_df(df_train[:100], tokenizer)"
   ]
  },
  {
   "cell_type": "code",
   "execution_count": 74,
   "metadata": {},
   "outputs": [
    {
     "name": "stdout",
     "output_type": "stream",
     "text": [
      "Vocabulary size of tokenizer: 30522 \n",
      "Context size: 512\n"
     ]
    }
   ],
   "source": [
    "print(f'Vocabulary size of tokenizer:', tokenizer.vocab_size, '\\nContext size:', tokenizer.model_max_length)"
   ]
  },
  {
   "cell_type": "code",
   "execution_count": 161,
   "metadata": {},
   "outputs": [
    {
     "name": "stderr",
     "output_type": "stream",
     "text": [
      "Some weights of the model checkpoint at bert-base-uncased were not used when initializing BertModel: ['cls.predictions.transform.LayerNorm.weight', 'cls.predictions.transform.LayerNorm.bias', 'cls.predictions.transform.dense.weight', 'cls.seq_relationship.weight', 'cls.predictions.bias', 'cls.predictions.decoder.weight', 'cls.predictions.transform.dense.bias', 'cls.seq_relationship.bias']\n",
      "- This IS expected if you are initializing BertModel from the checkpoint of a model trained on another task or with another architecture (e.g. initializing a BertForSequenceClassification model from a BertForPreTraining model).\n",
      "- This IS NOT expected if you are initializing BertModel from the checkpoint of a model that you expect to be exactly identical (initializing a BertForSequenceClassification model from a BertForSequenceClassification model).\n"
     ]
    }
   ],
   "source": [
    "model = SiameseNetwork(bert_type=BertModel.from_pretrained('bert-base-uncased'))\n",
    "\n",
    "train_loader = DataLoader(tokenized, shuffle=False, batch_size=32)\n",
    "\n",
    "#train_loss = ContrastiveLoss()\n",
    "train_loss = losses.ContrastiveLoss()\n",
    "\n",
    "optimizer = torch.optim.AdamW(model.parameters(),\n",
    "                  lr = 2e-5, # args.learning_rate - default is 5e-5, our notebook had 2e-5\n",
    "                  eps = 1e-8 # args.adam_epsilon  - default is 1e-8.\n",
    "                )\n",
    "\n",
    "# Batch size: 16, 32\n",
    "# Learning rate (Adam): 5e-5, 3e-5, 2e-5\n",
    "# Number of epochs: 2, 3, 4\n",
    "\n",
    "# The BERT authors recommend between 2 and 4.\n",
    "epochs = 1\n",
    "\n",
    "# Total number of training steps is [number of batches] x [number of epochs]. \n",
    "# (Note that this is not the same as the number of training samples).\n",
    "total_steps = len(train_loader) * epochs\n",
    "\n",
    "# Create the learning rate scheduler.\n",
    "scheduler = get_linear_schedule_with_warmup(optimizer, \n",
    "                                            num_warmup_steps = 0, # Default value in run_glue.py\n",
    "                                            num_training_steps = total_steps)"
   ]
  },
  {
   "cell_type": "code",
   "execution_count": null,
   "metadata": {},
   "outputs": [],
   "source": [
    "for epoch in range(1, epochs + 1):\n",
    "    train(model, None, train_loader, ContrastiveLoss, optimizer, epoch, scheduler)\n",
    "    #test(model, device, test_loader)\n"
   ]
  },
  {
   "cell_type": "code",
   "execution_count": 179,
   "metadata": {},
   "outputs": [],
   "source": [
    "def compute_contrastive_loss(left_feature, right_feature, label, margin):\n",
    "\n",
    "    \"\"\"\n",
    "    Compute the contrastive loss as in\n",
    "\n",
    "\n",
    "    L = 0.5 * Y * D^2 + 0.5 * (Y-1) * {max(0, margin - D)}^2\n",
    "\n",
    "    **Parameters**\n",
    "     left_feature: First element of the pair\n",
    "     right_feature: Second element of the pair\n",
    "     label: Label of the pair (0 or 1)\n",
    "     margin: Contrastive margin\n",
    "\n",
    "    **Returns**\n",
    "     Return the loss operation\n",
    "\n",
    "    \"\"\"\n",
    "\n",
    "    label = label.float()\n",
    "    one = 1.0\n",
    "\n",
    "    d = compute_euclidean_distance(left_feature, right_feature)\n",
    "    d_sqrt = torch.sqrt(compute_euclidean_distance(left_feature, right_feature))\n",
    "    first_part = torch.matmul(one-label, d)# (Y-1)*(d)\n",
    "\n",
    "    max_margin = torch.maximum(margin-d_sqrt, torch.tensor(0))\n",
    "    \n",
    "    max_part = torch.square(max_margin)\n",
    "    second_part = torch.matmul(label, max_part)  # (Y) * max(margin - d, 0)\n",
    "\n",
    "    loss = 0.5 * torch.mean(first_part + second_part)\n",
    "\n",
    "    return loss\n",
    "\n",
    "def compute_euclidean_distance(x, y):\n",
    "    \"\"\"\n",
    "    Computes the euclidean distance between two tensorflow variables\n",
    "    \"\"\"\n",
    "\n",
    "    d = torch.sum(torch.square(torch.sub(x, y)),1)\n",
    "    return d"
   ]
  },
  {
   "cell_type": "code",
   "execution_count": 12,
   "metadata": {},
   "outputs": [],
   "source": [
    "def compute_contrastive_loss(left_feature, right_feature, label, margin):\n",
    "\n",
    "    \"\"\"\n",
    "    Compute the contrastive loss as in\n",
    "\n",
    "\n",
    "    L = 0.5 * Y * D^2 + 0.5 * (Y-1) * {max(0, margin - D)}^2\n",
    "\n",
    "    **Parameters**\n",
    "     left_feature: First element of the pair\n",
    "     right_feature: Second element of the pair\n",
    "     label: Label of the pair (0 or 1)\n",
    "     margin: Contrastive margin\n",
    "\n",
    "    **Returns**\n",
    "     Return the loss operation\n",
    "\n",
    "    \"\"\"\n",
    "    \n",
    "    # -y * log(sim) + (1-y)*log(1-sim)\n",
    "\n",
    "    label = label.float()\n",
    "    \n",
    "    cosine = torch.nn.CosineSimilarity()\n",
    "    \n",
    "    sim = torch.mean(torch.square(cosine(left_feature, right_feature))).resize(1)\n",
    "    one = 1.0\n",
    "   \n",
    "    loss = torch.matmul(-label, torch.log(sim)) + torch.matmul((one-label).double(), torch.log(one-sim).double())\n",
    "    \n",
    "    return loss"
   ]
  },
  {
   "cell_type": "code",
   "execution_count": 140,
   "metadata": {},
   "outputs": [],
   "source": [
    "def ContrastiveLoss(output1, output2, labels):\n",
    "    \n",
    "    loss = torch.tensor(0.0)\n",
    "    \n",
    "    for i in range(output1.size(0)):\n",
    "    \n",
    "        loss += compute_contrastive_loss(output1[i], output2[i], labels[i].resize(1), 0.1)\n",
    "        print(loss)\n",
    "    \n",
    "    return loss"
   ]
  },
  {
   "cell_type": "code",
   "execution_count": 275,
   "metadata": {},
   "outputs": [
    {
     "data": {
      "text/plain": [
       "tensor(-16.8239, grad_fn=<AddBackward0>)"
      ]
     },
     "execution_count": 275,
     "metadata": {},
     "output_type": "execute_result"
    }
   ],
   "source": [
    "ContrastiveLoss(output1, output2, labels)"
   ]
  },
  {
   "cell_type": "code",
   "execution_count": 18,
   "metadata": {},
   "outputs": [
    {
     "data": {
      "text/plain": [
       "Int64Index([13100, 13101, 13102, 13103, 13104, 13105, 13106, 13107, 13108,\n",
       "            13109,\n",
       "            ...\n",
       "            16498, 16499, 16500, 16501, 16502, 16503, 16504, 16505, 16506,\n",
       "            16507],\n",
       "           dtype='int64', length=3408)"
      ]
     },
     "execution_count": 18,
     "metadata": {},
     "output_type": "execute_result"
    }
   ],
   "source": [
    "df_train[df_train['labels'] == 1].index"
   ]
  },
  {
   "cell_type": "code",
   "execution_count": null,
   "metadata": {},
   "outputs": [],
   "source": []
  }
 ],
 "metadata": {
  "kernelspec": {
   "display_name": "venv2",
   "language": "python",
   "name": "venv2"
  },
  "language_info": {
   "codemirror_mode": {
    "name": "ipython",
    "version": 3
   },
   "file_extension": ".py",
   "mimetype": "text/x-python",
   "name": "python",
   "nbconvert_exporter": "python",
   "pygments_lexer": "ipython3",
   "version": "3.8.10"
  },
  "vscode": {
   "interpreter": {
    "hash": "ede013c901f8a5774d468d6246940287a78a31eaa126b6cb7e1aa2724460e30f"
   }
  }
 },
 "nbformat": 4,
 "nbformat_minor": 4
}
