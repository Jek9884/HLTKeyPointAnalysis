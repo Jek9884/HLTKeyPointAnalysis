{
 "cells": [
  {
   "cell_type": "code",
   "execution_count": 3,
   "metadata": {
    "collapsed": false,
    "jupyter": {
     "outputs_hidden": false
    }
   },
   "outputs": [
    {
     "name": "stderr",
     "output_type": "stream",
     "text": [
      "/storagenfs/m.melerocavallo/HLTKeyPointAnalysis/venv2/lib/python3.8/site-packages/tqdm/auto.py:22: TqdmWarning: IProgress not found. Please update jupyter and ipywidgets. See https://ipywidgets.readthedocs.io/en/stable/user_install.html\n",
      "  from .autonotebook import tqdm as notebook_tqdm\n"
     ]
    }
   ],
   "source": [
    "import torch\n",
    "from pytorch_metric_learning import losses\n",
    "import data_handler\n",
    "from challenge_metrics import load_kpm_data\n",
    "from siamese_network import SiameseNetwork, train, test, compute_metrics, extract_challenge_metrics\n",
    "from transformers import BertModel, BertTokenizer, AdamW, get_linear_schedule_with_warmup\n",
    "from torch.utils.data import DataLoader\n",
    "from custom_losses import ContrastiveLoss\n",
    "import matplotlib.pyplot as plt\n",
    "import pandas as pd\n",
    "import numpy as np\n",
    "from sklearn.metrics import accuracy_score\n",
    "from tqdm import tqdm\n",
    "import itertools as it"
   ]
  },
  {
   "cell_type": "code",
   "execution_count": 4,
   "metadata": {},
   "outputs": [
    {
     "name": "stdout",
     "output_type": "stream",
     "text": [
      "The autoreload extension is already loaded. To reload it, use:\n",
      "  %reload_ext autoreload\n"
     ]
    }
   ],
   "source": [
    "%load_ext autoreload\n",
    "%autoreload 2"
   ]
  },
  {
   "cell_type": "code",
   "execution_count": 5,
   "metadata": {},
   "outputs": [],
   "source": [
    "device = torch.device(2)"
   ]
  },
  {
   "cell_type": "markdown",
   "metadata": {},
   "source": [
    "# Data Management"
   ]
  },
  {
   "cell_type": "code",
   "execution_count": 7,
   "metadata": {},
   "outputs": [],
   "source": [
    "df_train, df_val, df_test = data_handler.load(path=\"dataset/\", filename_train=\"train.csv\", filename_dev=\"dev.csv\", filename_test=\"test.csv\", sep_char='#')"
   ]
  },
  {
   "cell_type": "code",
   "execution_count": 8,
   "metadata": {},
   "outputs": [
    {
     "name": "stdout",
     "output_type": "stream",
     "text": [
      "<class 'pandas.core.frame.DataFrame'>\n",
      "RangeIndex: 20635 entries, 0 to 20634\n",
      "Data columns (total 7 columns):\n",
      " #   Column        Non-Null Count  Dtype  \n",
      "---  ------        --------------  -----  \n",
      " 0   arg_id        20635 non-null  object \n",
      " 1   argument      20635 non-null  object \n",
      " 2   key_point_id  20635 non-null  object \n",
      " 3   key_point     20635 non-null  object \n",
      " 4   topic         20635 non-null  object \n",
      " 5   stance        20635 non-null  int64  \n",
      " 6   label         20635 non-null  float64\n",
      "dtypes: float64(1), int64(1), object(5)\n",
      "memory usage: 1.1+ MB\n"
     ]
    }
   ],
   "source": [
    "df_train.info()"
   ]
  },
  {
   "cell_type": "code",
   "execution_count": 9,
   "metadata": {},
   "outputs": [
    {
     "name": "stdout",
     "output_type": "stream",
     "text": [
      "<class 'pandas.core.frame.DataFrame'>\n",
      "RangeIndex: 3458 entries, 0 to 3457\n",
      "Data columns (total 7 columns):\n",
      " #   Column        Non-Null Count  Dtype  \n",
      "---  ------        --------------  -----  \n",
      " 0   arg_id        3458 non-null   object \n",
      " 1   argument      3458 non-null   object \n",
      " 2   key_point_id  3458 non-null   object \n",
      " 3   key_point     3458 non-null   object \n",
      " 4   topic         3458 non-null   object \n",
      " 5   stance        3458 non-null   int64  \n",
      " 6   label         3458 non-null   float64\n",
      "dtypes: float64(1), int64(1), object(5)\n",
      "memory usage: 189.2+ KB\n"
     ]
    }
   ],
   "source": [
    "df_val.info()"
   ]
  },
  {
   "cell_type": "code",
   "execution_count": 10,
   "metadata": {},
   "outputs": [
    {
     "name": "stdout",
     "output_type": "stream",
     "text": [
      "<class 'pandas.core.frame.DataFrame'>\n",
      "RangeIndex: 3426 entries, 0 to 3425\n",
      "Data columns (total 7 columns):\n",
      " #   Column        Non-Null Count  Dtype  \n",
      "---  ------        --------------  -----  \n",
      " 0   arg_id        3426 non-null   object \n",
      " 1   argument      3426 non-null   object \n",
      " 2   key_point_id  3426 non-null   object \n",
      " 3   key_point     3426 non-null   object \n",
      " 4   topic         3426 non-null   object \n",
      " 5   stance        3426 non-null   int64  \n",
      " 6   label         3426 non-null   float64\n",
      "dtypes: float64(1), int64(1), object(5)\n",
      "memory usage: 187.5+ KB\n"
     ]
    }
   ],
   "source": [
    "df_test.info()"
   ]
  },
  {
   "cell_type": "code",
   "execution_count": 11,
   "metadata": {
    "tags": []
   },
   "outputs": [
    {
     "name": "stdout",
     "output_type": "stream",
     "text": [
      "Number of unique topics present in Training set: 24\n",
      "Number of unique topics present in Validation set: 4\n",
      "Number of unique topics present in Test set: 3\n"
     ]
    }
   ],
   "source": [
    "print(f\"Number of unique topics present in Training set: {len(df_train['topic'].unique())}\")\n",
    "print(f\"Number of unique topics present in Validation set: {len(df_val['topic'].unique())}\")\n",
    "print(f\"Number of unique topics present in Test set: {len(df_test['topic'].unique())}\")"
   ]
  },
  {
   "cell_type": "code",
   "execution_count": 12,
   "metadata": {
    "tags": []
   },
   "outputs": [
    {
     "name": "stdout",
     "output_type": "stream",
     "text": [
      "# Assisted suicide should be a criminal offence\n",
      " 1    682\n",
      "-1    345\n",
      "Name: stance, dtype: int64\n",
      "# Homeschooling should be banned\n",
      "-1    655\n",
      " 1    412\n",
      "Name: stance, dtype: int64\n",
      "# The vow of celibacy should be abandoned\n",
      "-1    537\n",
      " 1    533\n",
      "Name: stance, dtype: int64\n",
      "# We should abandon marriage\n",
      "-1    480\n",
      " 1    434\n",
      "Name: stance, dtype: int64\n",
      "# We should abolish capital punishment\n",
      " 1    582\n",
      "-1    478\n",
      "Name: stance, dtype: int64\n",
      "# We should abolish intellectual property rights\n",
      " 1    423\n",
      "-1    371\n",
      "Name: stance, dtype: int64\n",
      "# We should adopt atheism\n",
      " 1    334\n",
      "-1    274\n",
      "Name: stance, dtype: int64\n",
      "# We should adopt libertarianism\n",
      "-1    419\n",
      " 1    404\n",
      "Name: stance, dtype: int64\n",
      "# We should ban human cloning\n",
      "-1    537\n",
      " 1    406\n",
      "Name: stance, dtype: int64\n",
      "# We should ban private military companies\n",
      " 1    516\n",
      "-1    349\n",
      "Name: stance, dtype: int64\n",
      "# We should ban the use of child actors\n",
      "-1    552\n",
      " 1    532\n",
      "Name: stance, dtype: int64\n",
      "# We should close Guantanamo Bay detention camp\n",
      " 1    623\n",
      "-1    265\n",
      "Name: stance, dtype: int64\n",
      "# We should end mandatory retirement\n",
      " 1    525\n",
      "-1    143\n",
      "Name: stance, dtype: int64\n",
      "# We should fight for the abolition of nuclear weapons\n",
      " 1    178\n",
      "-1     80\n",
      "Name: stance, dtype: int64\n",
      "# We should fight urbanization\n",
      " 1    479\n",
      "-1    258\n",
      "Name: stance, dtype: int64\n",
      "# We should introduce compulsory voting\n",
      "-1    474\n",
      " 1    299\n",
      "Name: stance, dtype: int64\n",
      "# We should legalize cannabis\n",
      " 1    773\n",
      "-1    506\n",
      "Name: stance, dtype: int64\n",
      "# We should legalize prostitution\n",
      " 1    546\n",
      "-1    344\n",
      "Name: stance, dtype: int64\n",
      "# We should legalize sex selection\n",
      "-1    669\n",
      " 1    518\n",
      "Name: stance, dtype: int64\n",
      "# We should prohibit flag burning\n",
      "-1    194\n",
      " 1    144\n",
      "Name: stance, dtype: int64\n",
      "# We should prohibit women in combat\n",
      "-1    604\n",
      " 1    440\n",
      "Name: stance, dtype: int64\n",
      "# We should subsidize journalism\n",
      " 1    352\n",
      "-1    294\n",
      "Name: stance, dtype: int64\n",
      "# We should subsidize space exploration\n",
      " 1    546\n",
      "-1    411\n",
      "Name: stance, dtype: int64\n",
      "# We should subsidize vocational education\n",
      " 1    370\n",
      "-1    345\n",
      "Name: stance, dtype: int64\n"
     ]
    }
   ],
   "source": [
    "for elem in df_train['topic'].unique():\n",
    "    print(f\"# {elem}\")\n",
    "    print(df_train[df_train['topic'] == elem]['stance'].value_counts())"
   ]
  },
  {
   "cell_type": "code",
   "execution_count": 13,
   "metadata": {},
   "outputs": [
    {
     "name": "stdout",
     "output_type": "stream",
     "text": [
      "# We should abandon the use of school uniform\n",
      "-1    544\n",
      " 1    502\n",
      "Name: stance, dtype: int64\n",
      "# We should abolish the right to keep and bear arms\n",
      "-1    451\n",
      " 1    331\n",
      "Name: stance, dtype: int64\n",
      "# We should adopt an austerity regime\n",
      " 1    492\n",
      "-1    454\n",
      "Name: stance, dtype: int64\n",
      "# We should end affirmative action\n",
      " 1    441\n",
      "-1    243\n",
      "Name: stance, dtype: int64\n"
     ]
    }
   ],
   "source": [
    "for elem in df_val['topic'].unique():\n",
    "    print(f\"# {elem}\")\n",
    "    print(df_val[df_val['topic'] == elem]['stance'].value_counts())"
   ]
  },
  {
   "cell_type": "code",
   "execution_count": 14,
   "metadata": {},
   "outputs": [
    {
     "name": "stdout",
     "output_type": "stream",
     "text": [
      "# We should abandon the use of school uniform\n",
      "-1    544\n",
      " 1    502\n",
      "Name: stance, dtype: int64\n",
      "# We should abolish the right to keep and bear arms\n",
      "-1    451\n",
      " 1    331\n",
      "Name: stance, dtype: int64\n",
      "# We should adopt an austerity regime\n",
      " 1    492\n",
      "-1    454\n",
      "Name: stance, dtype: int64\n",
      "# We should end affirmative action\n",
      " 1    441\n",
      "-1    243\n",
      "Name: stance, dtype: int64\n"
     ]
    }
   ],
   "source": [
    "for elem in df_val['topic'].unique():\n",
    "    print(f\"# {elem}\")\n",
    "    print(df_val[df_val['topic'] == elem]['stance'].value_counts())"
   ]
  },
  {
   "cell_type": "code",
   "execution_count": 15,
   "metadata": {},
   "outputs": [
    {
     "name": "stdout",
     "output_type": "stream",
     "text": [
      "Percentage of 0 labels: 79.35546401744608\n",
      "Percentage of 1 labels: 20.64453598255391\n"
     ]
    },
    {
     "data": {
      "image/png": "[encoded data removed]",
      "text/plain": [
       "<Figure size 640x480 with 1 Axes>"
      ]
     },
     "metadata": {},
     "output_type": "display_data"
    }
   ],
   "source": [
    "df_train['label'].value_counts().plot.bar(title='Labels Proportions in Training set')\n",
    "values = df_train['label'].value_counts()\n",
    "perc0 = values[0] / (values[0] + values[1])\n",
    "print(f\"Percentage of 0 labels: {perc0*100}\")\n",
    "print(f\"Percentage of 1 labels: {(1-perc0)*100}\")"
   ]
  },
  {
   "cell_type": "code",
   "execution_count": 16,
   "metadata": {},
   "outputs": [
    {
     "name": "stdout",
     "output_type": "stream",
     "text": [
      "Percentage of 0 labels: 78.65818392134182\n",
      "Percentage of 1 labels: 21.341816078658184\n"
     ]
    },
    {
     "data": {
      "image/png": "[encoded data removed]",
      "text/plain": [
       "<Figure size 640x480 with 1 Axes>"
      ]
     },
     "metadata": {},
     "output_type": "display_data"
    }
   ],
   "source": [
    "df_val['label'].value_counts().plot.bar(title='Labels Proportions in Validation set')\n",
    "values = df_val['label'].value_counts()\n",
    "perc0 = values[0] / (values[0] + values[1])\n",
    "print(f\"Percentage of 0 labels: {perc0*100}\")\n",
    "print(f\"Percentage of 1 labels: {(1-perc0)*100}\")"
   ]
  },
  {
   "cell_type": "code",
   "execution_count": 17,
   "metadata": {},
   "outputs": [
    {
     "name": "stdout",
     "output_type": "stream",
     "text": [
      "Percentage of 0 labels: 83.88791593695272\n",
      "Percentage of 1 labels: 16.112084063047284\n"
     ]
    },
    {
     "data": {
      "image/png": "[encoded data removed]",
      "text/plain": [
       "<Figure size 640x480 with 1 Axes>"
      ]
     },
     "metadata": {},
     "output_type": "display_data"
    }
   ],
   "source": [
    "df_test['label'].value_counts().plot.bar(title='Labels Proportions in Test set')\n",
    "values = df_test['label'].value_counts()\n",
    "perc0 = values[0] / (values[0] + values[1])\n",
    "print(f\"Percentage of 0 labels: {perc0*100}\")\n",
    "print(f\"Percentage of 1 labels: {(1-perc0)*100}\")"
   ]
  },
  {
   "cell_type": "code",
   "execution_count": 18,
   "metadata": {},
   "outputs": [
    {
     "name": "stdout",
     "output_type": "stream",
     "text": [
      "Overlap of topics between Training and Validation: 0\n",
      "Overlap of topics between Training and Test: 0\n",
      "Overlap of topics between Test and Validation: 0\n"
     ]
    }
   ],
   "source": [
    "#Check if there are some shared topics\n",
    "print(f\"Overlap of topics between Training and Validation: {len(np.intersect1d(df_train['topic'].unique(), df_val['topic'].unique()))}\")\n",
    "print(f\"Overlap of topics between Training and Test: {len(np.intersect1d(df_train['topic'].unique(), df_test['topic'].unique()))}\")\n",
    "print(f\"Overlap of topics between Test and Validation: {len(np.intersect1d(df_val['topic'].unique(), df_test['topic'].unique()))}\")"
   ]
  },
  {
   "cell_type": "code",
   "execution_count": 19,
   "metadata": {},
   "outputs": [],
   "source": [
    "# Concatenate topics and keypoints, as stated in the paper\n",
    "df_train = data_handler.concatenate_topics(df_train)\n",
    "df_val = data_handler.concatenate_topics(df_val)\n",
    "df_test = data_handler.concatenate_topics(df_test)"
   ]
  },
  {
   "cell_type": "code",
   "execution_count": 20,
   "metadata": {},
   "outputs": [],
   "source": [
    "n_words = pd.DataFrame()\n",
    "n_words['words_per_arg_train'] = df_train['argument'].str.split().apply(len)\n",
    "n_words['words_per_arg_val'] = df_val['argument'].str.split().apply(len)\n",
    "n_words['words_per_arg_test'] = df_test['argument'].str.split().apply(len)\n",
    "n_words['words_per_kp_train'] = df_train['key_points'].str.split().apply(len)\n",
    "n_words['words_per_kp_val'] = df_val['key_points'].str.split().apply(len)\n",
    "n_words['words_per_kp_test'] = df_test['key_points'].str.split().apply(len)"
   ]
  },
  {
   "cell_type": "markdown",
   "metadata": {},
   "source": [
    "Considerazioni varie..."
   ]
  },
  {
   "cell_type": "code",
   "execution_count": 21,
   "metadata": {},
   "outputs": [
    {
     "data": {
      "text/plain": [
       "<AxesSubplot: >"
      ]
     },
     "execution_count": 21,
     "metadata": {},
     "output_type": "execute_result"
    },
    {
     "data": {
      "image/png": "[encoded data removed]",
      "text/plain": [
       "<Figure size 1500x500 with 1 Axes>"
      ]
     },
     "metadata": {},
     "output_type": "display_data"
    }
   ],
   "source": [
    "n_words.plot.box(figsize=(15, 5))"
   ]
  },
  {
   "cell_type": "code",
   "execution_count": 24,
   "metadata": {},
   "outputs": [
    {
     "name": "stdout",
     "output_type": "stream",
     "text": [
      "Max number of words for Training args: 42\n",
      "Max number of words for Validation args: 40.0\n",
      "Max number of words for Test args: 38.0\n",
      "\n",
      "Max number of words for Training key points: 25\n",
      "Max number of words for Validation key points: 17.0\n",
      "Max number of words for Validation key points: 21.0\n"
     ]
    }
   ],
   "source": [
    "print(f\"Max number of words for Training args: {n_words['words_per_arg_train'].max()}\")\n",
    "print(f\"Max number of words for Validation args: {n_words['words_per_arg_val'].max()}\")\n",
    "print(f\"Max number of words for Test args: {n_words['words_per_arg_test'].max()}\\n\")\n",
    "\n",
    "print(f\"Max number of words for Training key points: {n_words['words_per_kp_train'].max()}\")\n",
    "print(f\"Max number of words for Validation key points: {n_words['words_per_kp_val'].max()}\")\n",
    "print(f\"Max number of words for Validation key points: {n_words['words_per_kp_test'].max()}\")"
   ]
  },
  {
   "cell_type": "code",
   "execution_count": 25,
   "metadata": {},
   "outputs": [
    {
     "name": "stderr",
     "output_type": "stream",
     "text": [
      "/storagenfs/m.melerocavallo/HLTKeyPointAnalysis/venv2/lib/python3.8/site-packages/transformers/tokenization_utils_base.py:2336: FutureWarning: The `pad_to_max_length` argument is deprecated and will be removed in a future version, use `padding=True` or `padding='longest'` to pad to the longest sequence in the batch, or use `padding='max_length'` to pad to a max length. In this case, you can give a specific length with `max_length` (e.g. `max_length=45`) or leave max_length to None to pad to the maximal input size of the model (e.g. 512 for Bert).\n",
      "  warnings.warn(\n",
      "/storagenfs/m.melerocavallo/HLTKeyPointAnalysis/venv2/lib/python3.8/site-packages/transformers/tokenization_utils_base.py:2336: FutureWarning: The `pad_to_max_length` argument is deprecated and will be removed in a future version, use `padding=True` or `padding='longest'` to pad to the longest sequence in the batch, or use `padding='max_length'` to pad to a max length. In this case, you can give a specific length with `max_length` (e.g. `max_length=45`) or leave max_length to None to pad to the maximal input size of the model (e.g. 512 for Bert).\n",
      "  warnings.warn(\n",
      "/storagenfs/m.melerocavallo/HLTKeyPointAnalysis/venv2/lib/python3.8/site-packages/transformers/tokenization_utils_base.py:2336: FutureWarning: The `pad_to_max_length` argument is deprecated and will be removed in a future version, use `padding=True` or `padding='longest'` to pad to the longest sequence in the batch, or use `padding='max_length'` to pad to a max length. In this case, you can give a specific length with `max_length` (e.g. `max_length=45`) or leave max_length to None to pad to the maximal input size of the model (e.g. 512 for Bert).\n",
      "  warnings.warn(\n"
     ]
    }
   ],
   "source": [
    "# Load our model's (bert-base-uncased) tokenizer\n",
    "tokenizer = BertTokenizer.from_pretrained('bert-base-uncased', do_lower_case=True)\n",
    "\n",
    "# Tokenize data\n",
    "max_length = 60\n",
    "columns_list = ['argument', 'key_points', 'label']\n",
    "tokenized_tr = data_handler.tokenize_df(df_train[columns_list], tokenizer, max_length=max_length)\n",
    "tokenized_val = data_handler.tokenize_df(df_val[columns_list], tokenizer, max_length=max_length)\n",
    "tokenized_test = data_handler.tokenize_df(df_test[columns_list], tokenizer, max_length=max_length)"
   ]
  },
  {
   "cell_type": "code",
   "execution_count": 26,
   "metadata": {},
   "outputs": [
    {
     "name": "stdout",
     "output_type": "stream",
     "text": [
      "Vocabulary size of tokenizer: 30522 \n",
      "Context size: 60\n"
     ]
    }
   ],
   "source": [
    "print(f'Vocabulary size of tokenizer:', tokenizer.vocab_size, '\\nContext size:', max_length)"
   ]
  },
  {
   "cell_type": "code",
   "execution_count": null,
   "metadata": {},
   "outputs": [],
   "source": [
    "tokenized_tr"
   ]
  },
  {
   "cell_type": "code",
   "execution_count": null,
   "metadata": {},
   "outputs": [],
   "source": [
    "# Tokenizing without padding to check token lengths\n",
    "args_len = [len(tokenizer.encode(s)) for s in df_train['argument']]\n",
    "kps_len = [len(tokenizer.encode(s)) for s in df_train['key_points']]"
   ]
  },
  {
   "cell_type": "code",
   "execution_count": 41,
   "metadata": {},
   "outputs": [
    {
     "data": {
      "image/png": "[encoded data removed]",
      "text/plain": [
       "<Figure size 1000x350 with 2 Axes>"
      ]
     },
     "metadata": {},
     "output_type": "display_data"
    }
   ],
   "source": [
    "fig, axes = plt.subplots(1, 2, figsize=(10, 3.5), sharey=True)\n",
    "axes[0].hist(args_len, bins=20, color=\"C0\", edgecolor=\"C0\")\n",
    "axes[0].set_title(\"Arguments Token Length\")\n",
    "axes[0].set_xlabel(\"Length\")\n",
    "axes[0].set_ylabel(\"Count\")\n",
    "\n",
    "axes[1].hist(kps_len, bins=20, color=\"C0\", edgecolor=\"C0\")\n",
    "axes[1].set_title(\"Key Points Token Length\")\n",
    "axes[1].set_xlabel(\"Length\")\n",
    "plt.tight_layout()\n",
    "plt.show()"
   ]
  },
  {
   "cell_type": "code",
   "execution_count": null,
   "metadata": {},
   "outputs": [],
   "source": []
  }
 ],
 "metadata": {
  "kernelspec": {
   "display_name": "venv2",
   "language": "python",
   "name": "venv2"
  },
  "language_info": {
   "codemirror_mode": {
    "name": "ipython",
    "version": 3
   },
   "file_extension": ".py",
   "mimetype": "text/x-python",
   "name": "python",
   "nbconvert_exporter": "python",
   "pygments_lexer": "ipython3",
   "version": "3.8.10"
  },
  "vscode": {
   "interpreter": {
    "hash": "ede013c901f8a5774d468d6246940287a78a31eaa126b6cb7e1aa2724460e30f"
   }
  }
 },
 "nbformat": 4,
 "nbformat_minor": 4
}
