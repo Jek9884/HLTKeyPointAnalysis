{
 "cells": [
  {
   "cell_type": "code",
   "execution_count": 1,
   "id": "0cb5d46e-0ff0-4fd3-9475-36f3695a4125",
   "metadata": {},
   "outputs": [
    {
     "name": "stderr",
     "output_type": "stream",
     "text": [
      "/storagenfs/m.melerocavallo/HLTKeyPointAnalysis/venv2/lib/python3.8/site-packages/tqdm/auto.py:22: TqdmWarning: IProgress not found. Please update jupyter and ipywidgets. See https://ipywidgets.readthedocs.io/en/stable/user_install.html\n",
      "  from .autonotebook import tqdm as notebook_tqdm\n"
     ]
    }
   ],
   "source": [
    "import pandas as pd\n",
    "import numpy as np\n",
    "import torch\n",
    "import matplotlib.pyplot as plt\n",
    "\n",
    "import sys\n",
    "sys.path.insert(1, '../')\n",
    "import data_handler"
   ]
  },
  {
   "cell_type": "code",
   "execution_count": 2,
   "id": "c0833074-0a41-4a13-971b-3c7e336fff15",
   "metadata": {},
   "outputs": [],
   "source": [
    "%load_ext autoreload\n",
    "%autoreload 2"
   ]
  },
  {
   "cell_type": "code",
   "execution_count": 3,
   "id": "f436461f-c497-483c-bcf4-4fd454287839",
   "metadata": {},
   "outputs": [],
   "source": [
    "device = torch.device(2)"
   ]
  },
  {
   "cell_type": "markdown",
   "id": "fd8916a9-cb29-48ff-8ca8-259a995d299f",
   "metadata": {},
   "source": [
    "# Data Management"
   ]
  },
  {
   "cell_type": "code",
   "execution_count": 4,
   "id": "87a027e1-7afb-4ee3-8713-2cabf3b06d25",
   "metadata": {},
   "outputs": [],
   "source": [
    "df_train, df_val, df_test = data_handler.load_full_dataset('../dataset/', get_train=True, get_dev=True, get_test=True)"
   ]
  },
  {
   "cell_type": "code",
   "execution_count": 5,
   "id": "7fbb0433-b636-4184-82b8-b0d793837e6a",
   "metadata": {},
   "outputs": [
    {
     "name": "stdout",
     "output_type": "stream",
     "text": [
      "<class 'pandas.core.frame.DataFrame'>\n",
      "Int64Index: 24093 entries, 0 to 3457\n",
      "Data columns (total 4 columns):\n",
      " #   Column     Non-Null Count  Dtype \n",
      "---  ------     --------------  ----- \n",
      " 0   argument   24093 non-null  object\n",
      " 1   key_point  24093 non-null  object\n",
      " 2   topic      24093 non-null  object\n",
      " 3   stance     24093 non-null  int64 \n",
      "dtypes: int64(1), object(3)\n",
      "memory usage: 941.1+ KB\n"
     ]
    }
   ],
   "source": [
    "df_train.info()"
   ]
  },
  {
   "cell_type": "code",
   "execution_count": 6,
   "id": "7dd2863a-1d80-406a-9e4a-3466afba109e",
   "metadata": {},
   "outputs": [
    {
     "name": "stdout",
     "output_type": "stream",
     "text": [
      "<class 'pandas.core.frame.DataFrame'>\n",
      "RangeIndex: 3426 entries, 0 to 3425\n",
      "Data columns (total 4 columns):\n",
      " #   Column     Non-Null Count  Dtype \n",
      "---  ------     --------------  ----- \n",
      " 0   argument   3426 non-null   object\n",
      " 1   key_point  3426 non-null   object\n",
      " 2   topic      3426 non-null   object\n",
      " 3   stance     3426 non-null   int64 \n",
      "dtypes: int64(1), object(3)\n",
      "memory usage: 107.2+ KB\n"
     ]
    }
   ],
   "source": [
    "df_val.info()"
   ]
  },
  {
   "cell_type": "code",
   "execution_count": 7,
   "id": "a783a2ac-d215-4500-8771-d1f91793e937",
   "metadata": {},
   "outputs": [
    {
     "name": "stdout",
     "output_type": "stream",
     "text": [
      "<class 'pandas.core.frame.DataFrame'>\n",
      "RangeIndex: 18398 entries, 0 to 18397\n",
      "Data columns (total 3 columns):\n",
      " #   Column    Non-Null Count  Dtype \n",
      "---  ------    --------------  ----- \n",
      " 0   argument  18398 non-null  object\n",
      " 1   topic     18398 non-null  object\n",
      " 2   stance    18398 non-null  int64 \n",
      "dtypes: int64(1), object(2)\n",
      "memory usage: 431.3+ KB\n"
     ]
    }
   ],
   "source": [
    "df_test.info()"
   ]
  },
  {
   "cell_type": "code",
   "execution_count": 8,
   "id": "917c2712-0735-449d-b25f-26c6f50c49e7",
   "metadata": {},
   "outputs": [
    {
     "name": "stdout",
     "output_type": "stream",
     "text": [
      "Number of unique topics present in Training set: 28\n",
      "Number of unique topics present in Validation set: 3\n",
      "Number of unique topics present in Test set: 43\n"
     ]
    }
   ],
   "source": [
    "print(f\"Number of unique topics present in Training set: {len(df_train['topic'].unique())}\")\n",
    "print(f\"Number of unique topics present in Validation set: {len(df_val['topic'].unique())}\")\n",
    "print(f\"Number of unique topics present in Test set: {len(df_test['topic'].unique())}\")"
   ]
  },
  {
   "cell_type": "code",
   "execution_count": 9,
   "id": "1f53ca8c-ba43-430e-94b0-9beb50c76aba",
   "metadata": {},
   "outputs": [
    {
     "name": "stdout",
     "output_type": "stream",
     "text": [
      "Overlap of topics between Training and Validation: 0\n",
      "Overlap of topics between Training and Test: 0\n",
      "Overlap of topics between Test and Validation: 0\n"
     ]
    }
   ],
   "source": [
    "#Check if there are some shared topics\n",
    "print(f\"Overlap of topics between Training and Validation: {len(np.intersect1d(df_train['topic'].unique(), df_val['topic'].unique()))}\")\n",
    "print(f\"Overlap of topics between Training and Test: {len(np.intersect1d(df_train['topic'].unique(), df_test['topic'].unique()))}\")\n",
    "print(f\"Overlap of topics between Test and Validation: {len(np.intersect1d(df_val['topic'].unique(), df_test['topic'].unique()))}\")"
   ]
  },
  {
   "cell_type": "code",
   "execution_count": 10,
   "id": "a7004097-3bfa-4a38-a00e-3e12f5689ef3",
   "metadata": {},
   "outputs": [],
   "source": [
    "# Concatenate topics and keypoints, as stated in the paper\n",
    "df_train = data_handler.concatenate_topics(df_train, input_col='argument', output_col='argument')\n",
    "df_val = data_handler.concatenate_topics(df_val, input_col='argument', output_col='argument')\n",
    "df_test = data_handler.concatenate_topics(df_test, input_col='argument', output_col='argument')"
   ]
  },
  {
   "cell_type": "code",
   "execution_count": 11,
   "id": "99e5fde1-40d8-4447-abf3-aa30a24672c0",
   "metadata": {},
   "outputs": [],
   "source": [
    "n_words = pd.DataFrame()\n",
    "n_words['words_per_arg_train'] = df_train['argument'].str.split().apply(len)\n",
    "n_words['words_per_arg_val'] = df_val['argument'].str.split().apply(len)\n",
    "n_words['words_per_arg_test'] = df_test['argument'].str.split().apply(len)"
   ]
  },
  {
   "cell_type": "code",
   "execution_count": 12,
   "id": "e9ecf09b-1c47-4cd7-baa9-556e38c64004",
   "metadata": {},
   "outputs": [
    {
     "data": {
      "text/plain": [
       "<AxesSubplot: >"
      ]
     },
     "execution_count": 12,
     "metadata": {},
     "output_type": "execute_result"
    },
    {
     "data": {
      "image/png": "[encoded data removed]",
      "text/plain": [
       "<Figure size 1500x500 with 1 Axes>"
      ]
     },
     "metadata": {},
     "output_type": "display_data"
    }
   ],
   "source": [
    "n_words.plot.box(figsize=(15, 5))"
   ]
  },
  {
   "cell_type": "code",
   "execution_count": 13,
   "id": "c84f478d-c714-4718-90a7-3dc61e81cdb8",
   "metadata": {},
   "outputs": [
    {
     "name": "stdout",
     "output_type": "stream",
     "text": [
      "Max number of words for Training args: 49\n",
      "Max number of words for Validation args: 47.0\n",
      "Max number of words for Test args: 52.0\n",
      "\n"
     ]
    }
   ],
   "source": [
    "print(f\"Max number of words for Training args: {n_words['words_per_arg_train'].max()}\")\n",
    "print(f\"Max number of words for Validation args: {n_words['words_per_arg_val'].max()}\")\n",
    "print(f\"Max number of words for Test args: {n_words['words_per_arg_test'].max()}\\n\")"
   ]
  },
  {
   "cell_type": "code",
   "execution_count": 14,
   "id": "b7da42d2-b0b0-4867-b665-53711e5eb037",
   "metadata": {},
   "outputs": [],
   "source": [
    "def tokenization_target(sentences, tokenizer, max_length=512):\n",
    "     # Tokenize all of the sentences and map the tokens to thier word IDs.\n",
    "        input_ids = []\n",
    "        attention_masks = []\n",
    "\n",
    "      # For every sentence...\n",
    "        with tokenizer.as_target_tokenizer():\n",
    "            for sent in sentences:\n",
    "              # `encode_plus` will:\n",
    "              #   (1) Tokenize the sentence.\n",
    "              #   (2) Prepend the `[CLS]` token to the start.\n",
    "              #   (3) Append the `[SEP]` token to the end.\n",
    "              #   (4) Map tokens to their IDs.\n",
    "              #   (5) Pad or truncate the sentence to `max_length`\n",
    "              #   (6) Create attention masks for [PAD] tokens.\n",
    "                encoding = tokenizer.encode_plus(\n",
    "                                  sent,                      # Sentence to encode.\n",
    "                                  add_special_tokens = True, # Add '[CLS]' and '[SEP]'\n",
    "                                  max_length = max_length,   # Pad & truncate all sentences.\n",
    "                                  pad_to_max_length = True,\n",
    "                                  return_attention_mask = True,   # Construct attn. masks.\n",
    "                                  return_tensors = 'pt',     # Return pytorch tensors.\n",
    "                                  truncation=True\n",
    "                            )\n",
    "\n",
    "              # Add the encoded sentence to the list.    \n",
    "                input_ids.append(encoding['input_ids'])\n",
    "\n",
    "              # And its attention mask (simply differentiates padding from non-padding).\n",
    "                attention_masks.append(encoding['attention_mask'])\n",
    "\n",
    "      # Convert the lists into tensors.\n",
    "        input_ids = torch.cat(input_ids, dim=0)\n",
    "        attention_masks = torch.cat(attention_masks, dim=0)\n",
    "        return input_ids, attention_masks"
   ]
  },
  {
   "cell_type": "code",
   "execution_count": 15,
   "id": "ab264399-5698-42a1-9208-34cd65eff055",
   "metadata": {},
   "outputs": [],
   "source": [
    "def tokenize_df_gen(df, tokenizer, max_length=512):\n",
    "    input_id_args, attention_masks_args = tokenization(df['argument'], tokenizer, max_length=max_length)\n",
    "    input_id_kps, attention_masks_kps = tokenization_target(df['key_point'], tokenizer, max_length=max_length)\n",
    "\n",
    "    '''tokenized = [ { 'id': i,\n",
    "        'argument':{\n",
    "            'input_ids': input_id_args[i],\n",
    "            'attention_masks' : attention_masks_args[i]\n",
    "            }, \n",
    "            'kp':{\n",
    "                'input_ids': input_id_kps[i],\n",
    "                'attention_masks' : attention_masks_kps[i]\n",
    "            }} for i in range(len(input_id_args)) ]'''\n",
    "    \n",
    "    tokenized_args = [{\n",
    "            'input_ids': input_id_args[i],\n",
    "            'attention_mask' : attention_masks_args[i]\n",
    "            } for i in range(len(input_id_args)) \n",
    "    ]\n",
    "    \n",
    "    tokenized_kps = [{\n",
    "            'input_ids': input_id_kps[i],\n",
    "            'attention_mask' : attention_masks_kps[i]\n",
    "            } for i in range(len(input_id_kps)) \n",
    "    ]\n",
    "\n",
    "    return tokenized_args, tokenized_kps"
   ]
  },
  {
   "cell_type": "code",
   "execution_count": 16,
   "id": "d9c6841a-bee0-41f5-8fca-829716c8d2cb",
   "metadata": {},
   "outputs": [
    {
     "name": "stderr",
     "output_type": "stream",
     "text": [
      "/storagenfs/m.melerocavallo/HLTKeyPointAnalysis/venv2/lib/python3.8/site-packages/transformers/tokenization_utils_base.py:2336: FutureWarning: The `pad_to_max_length` argument is deprecated and will be removed in a future version, use `padding=True` or `padding='longest'` to pad to the longest sequence in the batch, or use `padding='max_length'` to pad to a max length. In this case, you can give a specific length with `max_length` (e.g. `max_length=45`) or leave max_length to None to pad to the maximal input size of the model (e.g. 512 for Bert).\n",
      "  warnings.warn(\n",
      "/storagenfs/m.melerocavallo/HLTKeyPointAnalysis/venv2/lib/python3.8/site-packages/transformers/tokenization_utils_base.py:3578: UserWarning: `as_target_tokenizer` is deprecated and will be removed in v5 of Transformers. You can tokenize your labels by using the argument `text_target` of the regular `__call__` method (either in the same call as your input texts if you use the same keyword arguments, or in a separate call.\n",
      "  warnings.warn(\n"
     ]
    }
   ],
   "source": [
    "from data_handler import tokenization\n",
    "from transformers import AutoTokenizer\n",
    "\n",
    "tokenizer = AutoTokenizer.from_pretrained('google/pegasus-xsum')\n",
    "tokenized_tr = tokenize_df_gen(df_train, tokenizer, max_length=60)"
   ]
  },
  {
   "cell_type": "code",
   "execution_count": 17,
   "id": "0a92470d-264f-4df2-ba11-3070dbcb331a",
   "metadata": {},
   "outputs": [],
   "source": [
    "# Tokenizing without padding to check token lengths\n",
    "args_len = [len(tokenizer.encode(s)) for s in df_train['argument']]\n",
    "kps_len = [len(tokenizer.encode(s)) for s in df_train['key_point']]"
   ]
  },
  {
   "cell_type": "code",
   "execution_count": 18,
   "id": "2d9b70d9-ff36-4ad7-a631-a4a7d10e73f9",
   "metadata": {},
   "outputs": [
    {
     "data": {
      "image/png": "[encoded data removed]",
      "text/plain": [
       "<Figure size 1000x350 with 2 Axes>"
      ]
     },
     "metadata": {},
     "output_type": "display_data"
    }
   ],
   "source": [
    "fig, axes = plt.subplots(1, 2, figsize=(10, 3.5), sharey=True)\n",
    "axes[0].hist(args_len, bins=20, color=\"C0\", edgecolor=\"C0\")\n",
    "axes[0].set_title(\"Arguments Token Length\")\n",
    "axes[0].set_xlabel(\"Length\")\n",
    "axes[0].set_ylabel(\"Count\")\n",
    "\n",
    "axes[1].hist(kps_len, bins=20, color=\"C0\", edgecolor=\"C0\")\n",
    "axes[1].set_title(\"Key Points Token Length\")\n",
    "axes[1].set_xlabel(\"Length\")\n",
    "plt.tight_layout()\n",
    "plt.show()"
   ]
  },
  {
   "cell_type": "code",
   "execution_count": null,
   "id": "18eb8d44-fc44-4c07-8673-057487bbe301",
   "metadata": {},
   "outputs": [],
   "source": []
  },
  {
   "cell_type": "code",
   "execution_count": 162,
   "id": "0a445047-2027-41f6-b85f-a84542750ea0",
   "metadata": {},
   "outputs": [
    {
     "data": {
      "text/plain": [
       "0.35"
      ]
     },
     "execution_count": 162,
     "metadata": {},
     "output_type": "execute_result"
    }
   ],
   "source": [
    "x = -0.3\n",
    "real_min = -1\n",
    "real_max = 1\n",
    "expec_min = 0\n",
    "expec_min = 1\n",
    "m = ((x - real_min)/(real_max-(real_min))) * (expec_max-expec_min) + expec_min\n",
    "m"
   ]
  },
  {
   "cell_type": "code",
   "execution_count": null,
   "id": "ee9bb2da-9436-4382-9de9-c1c5e5b2e587",
   "metadata": {},
   "outputs": [],
   "source": []
  },
  {
   "cell_type": "code",
   "execution_count": 19,
   "id": "bfc705f9-f8b9-4353-aca5-988ab2e30398",
   "metadata": {},
   "outputs": [],
   "source": [
    "from transformers import BertModel, AutoModel, Trainer, TrainingArguments\n",
    "from transformers import DataCollatorForSeq2Seq\n",
    "from torch.utils.data import DataLoader"
   ]
  },
  {
   "cell_type": "code",
   "execution_count": 20,
   "id": "a13d8200-f9a3-46e8-a572-6beddda4aaab",
   "metadata": {},
   "outputs": [
    {
     "name": "stderr",
     "output_type": "stream",
     "text": [
      "Some weights of the model checkpoint at google/pegasus-xsum were not used when initializing PegasusModel: ['final_logits_bias']\n",
      "- This IS expected if you are initializing PegasusModel from the checkpoint of a model trained on another task or with another architecture (e.g. initializing a BertForSequenceClassification model from a BertForPreTraining model).\n",
      "- This IS NOT expected if you are initializing PegasusModel from the checkpoint of a model that you expect to be exactly identical (initializing a BertForSequenceClassification model from a BertForSequenceClassification model).\n",
      "Some weights of PegasusModel were not initialized from the model checkpoint at google/pegasus-xsum and are newly initialized: ['model.decoder.embed_positions.weight', 'model.encoder.embed_positions.weight']\n",
      "You should probably TRAIN this model on a down-stream task to be able to use it for predictions and inference.\n"
     ]
    }
   ],
   "source": [
    "model = AutoModel.from_pretrained(\"google/pegasus-xsum\",\n",
    "                                          num_labels = 2)"
   ]
  },
  {
   "cell_type": "markdown",
   "id": "1233717d-cbf0-4394-8913-bdb53d0abe4a",
   "metadata": {},
   "source": [
    "EXAMPLE WITH DATASET FROM BOOK"
   ]
  },
  {
   "cell_type": "code",
   "execution_count": null,
   "id": "d5723b03-2838-4842-8789-dae819fa7bb5",
   "metadata": {},
   "outputs": [],
   "source": [
    "from datasets import load_dataset\n",
    "dataset_samsum_pt = load_dataset(\"samsum\")"
   ]
  },
  {
   "cell_type": "code",
   "execution_count": 31,
   "id": "ebfed961-3b29-40e7-af8e-44d24167bb7d",
   "metadata": {},
   "outputs": [],
   "source": [
    "seq2seq_data_collator = DataCollatorForSeq2Seq(tokenizer, model=model)"
   ]
  },
  {
   "cell_type": "code",
   "execution_count": 59,
   "id": "a6730d2c-d820-4390-a69a-bfc05ba7e639",
   "metadata": {},
   "outputs": [
    {
     "data": {
      "text/plain": [
       "\"Amanda: I baked  cookies. Do you want some?\\r\\nJerry: Sure!\\r\\nAmanda: I'll bring you tomorrow :-)\""
      ]
     },
     "execution_count": 59,
     "metadata": {},
     "output_type": "execute_result"
    }
   ],
   "source": [
    "sentences = [dataset_samsum_pt['train'][x]['dialogue'] for x in range(0,len(dataset_samsum_pt['train']))]\n",
    "sentences[0]"
   ]
  },
  {
   "cell_type": "code",
   "execution_count": 61,
   "id": "01e78282-7a3d-40eb-aca0-d0a34c055056",
   "metadata": {},
   "outputs": [],
   "source": [
    "input_ids_samsum, attention_mask_samsum = tokenization_target(sentences, tokenizer, max_length=512)"
   ]
  },
  {
   "cell_type": "code",
   "execution_count": 86,
   "id": "8054cd64-d0a4-4e9e-9c5d-d629004a66b1",
   "metadata": {},
   "outputs": [],
   "source": [
    "tokenized = [ { 'input_ids': input_ids_samsum[i],\n",
    "            'attention_mask' : attention_mask_samsum[i]\n",
    "            } for i in range(len(input_ids_samsum)) ]"
   ]
  },
  {
   "cell_type": "code",
   "execution_count": null,
   "id": "55ac824f-95bd-4ae5-89a9-66a5093332eb",
   "metadata": {},
   "outputs": [],
   "source": [
    "seq2seq_data_collator(tokenized)"
   ]
  },
  {
   "cell_type": "code",
   "execution_count": 87,
   "id": "a6b99878-ad76-447e-8add-5bd28d89d27b",
   "metadata": {},
   "outputs": [],
   "source": [
    "train_loader_samsum = DataLoader(tokenized, shuffle=True, batch_size=16, collate_fn=seq2seq_data_collator, pin_memory=True)"
   ]
  },
  {
   "cell_type": "code",
   "execution_count": 88,
   "id": "42529dde-2c1d-42f9-9b0f-cf5306d3e168",
   "metadata": {},
   "outputs": [
    {
     "name": "stdout",
     "output_type": "stream",
     "text": [
      "{'input_ids': tensor([[ 7819,   151,   463,  ...,     0,     0,     0],\n",
      "        [19622,  6867,   151,  ...,     0,     0,     0],\n",
      "        [ 9479,   151,   110,  ...,     0,     0,     0],\n",
      "        ...,\n",
      "        [ 3104,   151,   842,  ...,     0,     0,     0],\n",
      "        [ 2180,   151, 10532,  ...,     0,     0,     0],\n",
      "        [33716,   151,  4366,  ...,     0,     0,     0]]), 'attention_mask': tensor([[1, 1, 1,  ..., 0, 0, 0],\n",
      "        [1, 1, 1,  ..., 0, 0, 0],\n",
      "        [1, 1, 1,  ..., 0, 0, 0],\n",
      "        ...,\n",
      "        [1, 1, 1,  ..., 0, 0, 0],\n",
      "        [1, 1, 1,  ..., 0, 0, 0],\n",
      "        [1, 1, 1,  ..., 0, 0, 0]])}\n"
     ]
    }
   ],
   "source": [
    "for i, e in enumerate(train_loader_samsum):\n",
    "    print(e)\n",
    "    break"
   ]
  },
  {
   "cell_type": "markdown",
   "id": "cb63f43c-a508-4d4f-b755-c96567bcbe3a",
   "metadata": {},
   "source": [
    "EXAMPLE WITH OUR DATASET"
   ]
  },
  {
   "cell_type": "code",
   "execution_count": 21,
   "id": "ed0c4383-d1c0-40c2-9c14-ae0cc2c8da13",
   "metadata": {},
   "outputs": [
    {
     "name": "stderr",
     "output_type": "stream",
     "text": [
      "/storagenfs/m.melerocavallo/HLTKeyPointAnalysis/venv2/lib/python3.8/site-packages/transformers/tokenization_utils_base.py:2336: FutureWarning: The `pad_to_max_length` argument is deprecated and will be removed in a future version, use `padding=True` or `padding='longest'` to pad to the longest sequence in the batch, or use `padding='max_length'` to pad to a max length. In this case, you can give a specific length with `max_length` (e.g. `max_length=45`) or leave max_length to None to pad to the maximal input size of the model (e.g. 512 for Bert).\n",
      "  warnings.warn(\n",
      "/storagenfs/m.melerocavallo/HLTKeyPointAnalysis/venv2/lib/python3.8/site-packages/transformers/tokenization_utils_base.py:3578: UserWarning: `as_target_tokenizer` is deprecated and will be removed in v5 of Transformers. You can tokenize your labels by using the argument `text_target` of the regular `__call__` method (either in the same call as your input texts if you use the same keyword arguments, or in a separate call.\n",
      "  warnings.warn(\n"
     ]
    }
   ],
   "source": [
    "tokenized_tr_args, tokenized_tr_kps = tokenize_df_gen(df_train, tokenizer, max_length=512)"
   ]
  },
  {
   "cell_type": "code",
   "execution_count": 32,
   "id": "1f8e6d3d-3968-4fa2-96b5-4f9426dec0ca",
   "metadata": {},
   "outputs": [],
   "source": [
    "# Teacher forcing args or kps?\n",
    "seq2seq_data_collator = DataCollatorForSeq2Seq(tokenizer, model=model)\n",
    "train_loader = DataLoader(tokenized_tr_args, shuffle=True, batch_size=16, collate_fn=seq2seq_data_collator, pin_memory=True)"
   ]
  },
  {
   "cell_type": "code",
   "execution_count": null,
   "id": "ae3fce70-b16c-4c87-b6b9-4e0f8751968f",
   "metadata": {},
   "outputs": [],
   "source": [
    "for i, e in enumerate(train_loader):\n",
    "    print(i)\n",
    "    print(e)\n",
    "    break"
   ]
  },
  {
   "cell_type": "code",
   "execution_count": null,
   "id": "5ccf09b4-d1c5-4bff-9e9c-99c3514f37d2",
   "metadata": {},
   "outputs": [],
   "source": [
    "epochs = 1\n",
    "\n",
    "model.train()\n",
    "    \n",
    "# loss_function.to(device)\n",
    "results = {}\n",
    "\n",
    "'''results = {'loss': torch.zeros([epochs,1]),\n",
    "          'predicted': torch.zeros([epochs,len(train_loader.dataset)]),\n",
    "          'labels': torch.zeros([epochs,len(train_loader.dataset)])\n",
    "          }\n",
    "\n",
    "results = {k:v.to(device) for k,v in results.items()}'''\n",
    "\n",
    "for epoch in range(0, epochs):\n",
    "\n",
    "    '''epoch_results = {'loss': torch.zeros([len(train_loader),1]),\n",
    "          'predicted': torch.zeros([len(train_loader.dataset)]),\n",
    "          'labels': torch.zeros([len(train_loader.dataset)])\n",
    "    }\n",
    "\n",
    "    epoch_results = {k:v.to(device) for k,v in epoch_results.items()}'''\n",
    "\n",
    "    for batch_idx, (encodings) in enumerate(train_loader):\n",
    "\n",
    "        # Extract arguments, key_points and labels all from the same batch\n",
    "        '''args = {k:v.to(device) for k,v in encodings['argument'].items()}\n",
    "\n",
    "        kps = {k:v.to(device) for k,v in encodings['kp'].items()}'''\n",
    "\n",
    "        \n",
    "        #labels = encodings['label']\n",
    "        #labels = labels.to(device)\n",
    "\n",
    "        optimizer.zero_grad()\n",
    "        outp = model(encodings)\n",
    "\n",
    "        loss = loss_function(outp.float(), labels.float())\n",
    "        loss.backward()\n",
    "\n",
    "        # Compute start and end index of the slice to assign\n",
    "        '''start_idx = batch_idx*train_loader.batch_size;\n",
    "        if batch_idx < (len(train_loader)-1):\n",
    "            end_idx = (batch_idx+1)*(len(outp))\n",
    "        else:\n",
    "            end_idx = len(train_loader.dataset)\n",
    "\n",
    "        epoch_results['loss'][batch_idx] = loss'''\n",
    "\n",
    "        # Saves predictions and targets in respective position\n",
    "        # of the epoch_results arrays, this has been done because the\n",
    "        # data shuffles at each iteration\n",
    "        '''j = 0\n",
    "        for i in range(0, len(encodings['id'])):\n",
    "            index = encodings['id'][i]\n",
    "            epoch_results['predicted'][index] = outp[j]\n",
    "            epoch_results['labels'][index] = labels[j]\n",
    "            j+=1'''\n",
    "\n",
    "        # Clip the norm of the gradients to 1.0.\n",
    "        # This is to help prevent the \"exploding gradients\" problem.\n",
    "        torch.nn.utils.clip_grad_norm_(model.parameters(), 1.0)\n",
    "\n",
    "        # Update parameters and take a step using the computed gradient.\n",
    "        # The optimizer dictates the \"update rule\"--how the parameters are\n",
    "        # modified based on their gradients, the learning rate, etc.\n",
    "        optimizer.step()\n",
    "\n",
    "        # Update the learning rate.\n",
    "        scheduler.step()\n",
    "\n",
    "        if verbose:\n",
    "            if batch_idx % 10 == 0:\n",
    "                print(f'Train Epoch:', epoch, 'batch:',\n",
    "                    batch_idx, 'loss:',\n",
    "                    loss.mean())"
   ]
  },
  {
   "cell_type": "markdown",
   "id": "5655d842-bebf-412d-8367-e72bc674b10b",
   "metadata": {},
   "source": [
    "TEST/EVALUATION"
   ]
  },
  {
   "cell_type": "code",
   "execution_count": null,
   "id": "5c2446e7-25bd-4882-a69c-b2b4405296eb",
   "metadata": {},
   "outputs": [],
   "source": [
    "#loss_function.to(device)\n",
    "\n",
    "from main_task2 import PegasusModel\n",
    "from datasets import load_metric\n",
    "model_p = PegasusModel() \n",
    "\n",
    "\n",
    "rouge_metric = load_metric(\"rouge\")\n",
    "\n",
    "'''results = {'labels': torch.zeros([len(train_loader),1]),\n",
    "           'predicted':torch.zeros([len(train_loader),1]),\n",
    "           'loss':torch.zeros([len(train_loader),1])\n",
    "          }'''\n",
    "\n",
    "#results = {k:v.to(device) for k,v in results.items()}\n",
    "\n",
    "\n",
    "with torch.no_grad():\n",
    "    for batch_idx, (encodings) in enumerate(train_loader):\n",
    "\n",
    "        # Extract arguments, key_points and labels all from the same batch\n",
    "        '''args = {k:v.to(device) for k,v in encodings['argument'].items()}\n",
    "\n",
    "        kps = {k:v.to(device) for k,v in encodings['kp'].items()}'''\n",
    "\n",
    "        '''labels = encodings['label']\n",
    "        labels = labels.to(device)'''\n",
    "\n",
    "        outp = model_p.generate(encodings)\n",
    "\n",
    "        #loss = loss_function(outp.float(), labels.float())\n",
    "\n",
    "        results['summary'][batch_idx] = outp\n",
    "        results['predicted'][batch_idx] = outp\n",
    "        #results['loss'][batch_idx] = loss\n",
    "\n",
    "decoded = tokenizer.batch_decode(results['summary'], skip_special_tokens=True)\n",
    "        \n",
    "print(decoded)\n",
    "\n",
    "metric.add_batch(predictions=decoded, references=target_batch)\n",
    "score = metric.compute()"
   ]
  },
  {
   "cell_type": "code",
   "execution_count": null,
   "id": "aa07796e-7287-4880-bd61-f2469e929520",
   "metadata": {},
   "outputs": [],
   "source": [
    "dir(model_p.model)"
   ]
  },
  {
   "cell_type": "code",
   "execution_count": 27,
   "id": "fcd347d8-eb76-453d-9e1e-ed8ecd537929",
   "metadata": {},
   "outputs": [],
   "source": [
    "training_args = TrainingArguments(\n",
    "output_dir='pegasus-samsum', num_train_epochs=1, warmup_steps=500,\n",
    "per_device_train_batch_size=1, per_device_eval_batch_size=1,\n",
    "weight_decay=0.01, logging_steps=10, push_to_hub=True,\n",
    "evaluation_strategy='steps', eval_steps=500, save_steps=1e6,\n",
    "gradient_accumulation_steps=16)"
   ]
  },
  {
   "cell_type": "code",
   "execution_count": null,
   "id": "fce3f814-d86e-4f7d-8c2a-60cc11f0612e",
   "metadata": {},
   "outputs": [],
   "source": [
    "trainer = Trainer(model=model, args=training_args,\n",
    "tokenizer=tokenizer, data_collator=seq2seq_data_collator,\n",
    "train_dataset=dataset_samsum_pt[\"train\"],\n",
    "eval_dataset=dataset_samsum_pt[\"validation\"])"
   ]
  },
  {
   "cell_type": "code",
   "execution_count": null,
   "id": "8aadc771-2ddb-4c60-bcc6-11b7de3eb1b9",
   "metadata": {},
   "outputs": [],
   "source": []
  }
 ],
 "metadata": {
  "kernelspec": {
   "display_name": "venv2",
   "language": "python",
   "name": "venv2"
  },
  "language_info": {
   "codemirror_mode": {
    "name": "ipython",
    "version": 3
   },
   "file_extension": ".py",
   "mimetype": "text/x-python",
   "name": "python",
   "nbconvert_exporter": "python",
   "pygments_lexer": "ipython3",
   "version": "3.8.10"
  }
 },
 "nbformat": 4,
 "nbformat_minor": 5
}
