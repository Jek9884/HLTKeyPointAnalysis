{
 "cells": [
  {
   "cell_type": "code",
   "execution_count": 1,
   "id": "0cb5d46e-0ff0-4fd3-9475-36f3695a4125",
   "metadata": {},
   "outputs": [
    {
     "name": "stderr",
     "output_type": "stream",
     "text": [
      "/storagenfs/m.melerocavallo/HLTKeyPointAnalysis/venv2/lib/python3.8/site-packages/tqdm/auto.py:22: TqdmWarning: IProgress not found. Please update jupyter and ipywidgets. See https://ipywidgets.readthedocs.io/en/stable/user_install.html\n",
      "  from .autonotebook import tqdm as notebook_tqdm\n"
     ]
    }
   ],
   "source": [
    "import pandas as pd\n",
    "import numpy as np\n",
    "import torch\n",
    "\n",
    "import sys\n",
    "sys.path.insert(1, '../')\n",
    "import data_handler"
   ]
  },
  {
   "cell_type": "code",
   "execution_count": 2,
   "id": "c0833074-0a41-4a13-971b-3c7e336fff15",
   "metadata": {},
   "outputs": [],
   "source": [
    "%load_ext autoreload\n",
    "%autoreload 2"
   ]
  },
  {
   "cell_type": "code",
   "execution_count": 3,
   "id": "f436461f-c497-483c-bcf4-4fd454287839",
   "metadata": {},
   "outputs": [],
   "source": [
    "device = torch.device(2)"
   ]
  },
  {
   "cell_type": "markdown",
   "id": "fd8916a9-cb29-48ff-8ca8-259a995d299f",
   "metadata": {},
   "source": [
    "# Data Management"
   ]
  },
  {
   "cell_type": "code",
   "execution_count": 14,
   "id": "87a027e1-7afb-4ee3-8713-2cabf3b06d25",
   "metadata": {},
   "outputs": [],
   "source": [
    "df_train, df_val, df_test = data_handler.load_full_dataset('../dataset/', get_train=True, get_dev=True, get_test=True)"
   ]
  },
  {
   "cell_type": "code",
   "execution_count": 15,
   "id": "7fbb0433-b636-4184-82b8-b0d793837e6a",
   "metadata": {},
   "outputs": [
    {
     "name": "stdout",
     "output_type": "stream",
     "text": [
      "<class 'pandas.core.frame.DataFrame'>\n",
      "Int64Index: 24093 entries, 0 to 3457\n",
      "Data columns (total 4 columns):\n",
      " #   Column     Non-Null Count  Dtype \n",
      "---  ------     --------------  ----- \n",
      " 0   argument   24093 non-null  object\n",
      " 1   key_point  24093 non-null  object\n",
      " 2   topic      24093 non-null  object\n",
      " 3   stance     24093 non-null  int64 \n",
      "dtypes: int64(1), object(3)\n",
      "memory usage: 941.1+ KB\n"
     ]
    }
   ],
   "source": [
    "df_train.info()"
   ]
  },
  {
   "cell_type": "code",
   "execution_count": 16,
   "id": "7dd2863a-1d80-406a-9e4a-3466afba109e",
   "metadata": {},
   "outputs": [
    {
     "name": "stdout",
     "output_type": "stream",
     "text": [
      "<class 'pandas.core.frame.DataFrame'>\n",
      "RangeIndex: 3426 entries, 0 to 3425\n",
      "Data columns (total 4 columns):\n",
      " #   Column     Non-Null Count  Dtype \n",
      "---  ------     --------------  ----- \n",
      " 0   argument   3426 non-null   object\n",
      " 1   key_point  3426 non-null   object\n",
      " 2   topic      3426 non-null   object\n",
      " 3   stance     3426 non-null   int64 \n",
      "dtypes: int64(1), object(3)\n",
      "memory usage: 107.2+ KB\n"
     ]
    }
   ],
   "source": [
    "df_val.info()"
   ]
  },
  {
   "cell_type": "code",
   "execution_count": 17,
   "id": "a783a2ac-d215-4500-8771-d1f91793e937",
   "metadata": {},
   "outputs": [
    {
     "name": "stdout",
     "output_type": "stream",
     "text": [
      "<class 'pandas.core.frame.DataFrame'>\n",
      "RangeIndex: 18398 entries, 0 to 18397\n",
      "Data columns (total 3 columns):\n",
      " #   Column    Non-Null Count  Dtype \n",
      "---  ------    --------------  ----- \n",
      " 0   argument  18398 non-null  object\n",
      " 1   topic     18398 non-null  object\n",
      " 2   stance    18398 non-null  int64 \n",
      "dtypes: int64(1), object(2)\n",
      "memory usage: 431.3+ KB\n"
     ]
    }
   ],
   "source": [
    "df_test.info()"
   ]
  },
  {
   "cell_type": "code",
   "execution_count": 18,
   "id": "917c2712-0735-449d-b25f-26c6f50c49e7",
   "metadata": {},
   "outputs": [
    {
     "name": "stdout",
     "output_type": "stream",
     "text": [
      "Number of unique topics present in Training set: 28\n",
      "Number of unique topics present in Validation set: 3\n",
      "Number of unique topics present in Test set: 43\n"
     ]
    }
   ],
   "source": [
    "print(f\"Number of unique topics present in Training set: {len(df_train['topic'].unique())}\")\n",
    "print(f\"Number of unique topics present in Validation set: {len(df_val['topic'].unique())}\")\n",
    "print(f\"Number of unique topics present in Test set: {len(df_test['topic'].unique())}\")"
   ]
  },
  {
   "cell_type": "code",
   "execution_count": 19,
   "id": "1f53ca8c-ba43-430e-94b0-9beb50c76aba",
   "metadata": {},
   "outputs": [
    {
     "name": "stdout",
     "output_type": "stream",
     "text": [
      "Overlap of topics between Training and Validation: 0\n",
      "Overlap of topics between Training and Test: 0\n",
      "Overlap of topics between Test and Validation: 0\n"
     ]
    }
   ],
   "source": [
    "#Check if there are some shared topics\n",
    "print(f\"Overlap of topics between Training and Validation: {len(np.intersect1d(df_train['topic'].unique(), df_val['topic'].unique()))}\")\n",
    "print(f\"Overlap of topics between Training and Test: {len(np.intersect1d(df_train['topic'].unique(), df_test['topic'].unique()))}\")\n",
    "print(f\"Overlap of topics between Test and Validation: {len(np.intersect1d(df_val['topic'].unique(), df_test['topic'].unique()))}\")"
   ]
  },
  {
   "cell_type": "code",
   "execution_count": 20,
   "id": "a7004097-3bfa-4a38-a00e-3e12f5689ef3",
   "metadata": {},
   "outputs": [],
   "source": [
    "# Concatenate topics and keypoints, as stated in the paper\n",
    "df_train = data_handler.concatenate_topics(df_train, input_col='argument', output_col='argument')\n",
    "df_val = data_handler.concatenate_topics(df_val, input_col='argument', output_col='argument')\n",
    "df_test = data_handler.concatenate_topics(df_test, input_col='argument', output_col='argument')"
   ]
  },
  {
   "cell_type": "code",
   "execution_count": 21,
   "id": "99e5fde1-40d8-4447-abf3-aa30a24672c0",
   "metadata": {},
   "outputs": [],
   "source": [
    "n_words = pd.DataFrame()\n",
    "n_words['words_per_arg_train'] = df_train['argument'].str.split().apply(len)\n",
    "n_words['words_per_arg_val'] = df_val['argument'].str.split().apply(len)\n",
    "n_words['words_per_arg_test'] = df_test['argument'].str.split().apply(len)"
   ]
  },
  {
   "cell_type": "code",
   "execution_count": 22,
   "id": "e9ecf09b-1c47-4cd7-baa9-556e38c64004",
   "metadata": {},
   "outputs": [
    {
     "data": {
      "text/plain": [
       "<AxesSubplot: >"
      ]
     },
     "execution_count": 22,
     "metadata": {},
     "output_type": "execute_result"
    },
    {
     "data": {
      "image/png": "[encoded data removed]",
      "text/plain": [
       "<Figure size 1500x500 with 1 Axes>"
      ]
     },
     "metadata": {},
     "output_type": "display_data"
    }
   ],
   "source": [
    "n_words.plot.box(figsize=(15, 5))"
   ]
  },
  {
   "cell_type": "code",
   "execution_count": 23,
   "id": "c84f478d-c714-4718-90a7-3dc61e81cdb8",
   "metadata": {},
   "outputs": [
    {
     "name": "stdout",
     "output_type": "stream",
     "text": [
      "Max number of words for Training args: 49\n",
      "Max number of words for Validation args: 47.0\n",
      "Max number of words for Test args: 52.0\n",
      "\n"
     ]
    }
   ],
   "source": [
    "print(f\"Max number of words for Training args: {n_words['words_per_arg_train'].max()}\")\n",
    "print(f\"Max number of words for Validation args: {n_words['words_per_arg_val'].max()}\")\n",
    "print(f\"Max number of words for Test args: {n_words['words_per_arg_test'].max()}\\n\")"
   ]
  },
  {
   "cell_type": "code",
   "execution_count": null,
   "id": "af688fb3-34d0-415f-8f75-afe1b98bb3bf",
   "metadata": {},
   "outputs": [],
   "source": [
    "def convert_examples_to_features(example_batch):\n",
    "    input_encodings = tokenizer(example_batch[\"dialogue\"], max_length=1024,\n",
    "    truncation=True)\n",
    "\n",
    "    with tokenizer.as_target_tokenizer():\n",
    "        target_encodings = tokenizer(example_batch[\"summary\"], max_length=128,\n",
    "            truncation=True)\n",
    "    return {\"input_ids\": input_encodings[\"input_ids\"],\n",
    "        \"attention_mask\": input_encodings[\"attention_mask\"],\n",
    "        \"labels\": target_encodings[\"input_ids\"]}\n",
    "    \n",
    "\n",
    "dataset_samsum_pt = dataset_samsum.map(convert_examples_to_features,\n",
    "batched=True)\n",
    "columns = [\"input_ids\", \"labels\", \"attention_mask\"]\n",
    "dataset_samsum_pt.set_format(type=\"torch\", columns=columns)"
   ]
  },
  {
   "cell_type": "code",
   "execution_count": null,
   "id": "2f82be0f-3d0c-4927-8c6b-acd90dffddfa",
   "metadata": {},
   "outputs": [],
   "source": [
    "d_len = [len(tokenizer.encode(s)) for s in dataset_samsum[\"train\"][\"dialogue\"]]\n",
    "s_len = [len(tokenizer.encode(s)) for s in dataset_samsum[\"train\"][\"summary\"]]\n",
    "fig, axes = plt.subplots(1, 2, figsize=(10, 3.5), sharey=True)\n",
    "axes[0].hist(d_len, bins=20, color=\"C0\", edgecolor=\"C0\")\n",
    "axes[0].set_title(\"Dialogue Token Length\")\n",
    "axes[0].set_xlabel(\"Length\")\n",
    "\n",
    "axes[0].set_ylabel(\"Count\")\n",
    "axes[1].hist(s_len, bins=20, color=\"C0\", edgecolor=\"C0\")\n",
    "axes[1].set_title(\"Summary Token Length\")\n",
    "axes[1].set_xlabel(\"Length\")\n",
    "plt.tight_layout()\n",
    "plt.show()"
   ]
  },
  {
   "cell_type": "code",
   "execution_count": null,
   "id": "0a445047-2027-41f6-b85f-a84542750ea0",
   "metadata": {},
   "outputs": [],
   "source": []
  }
 ],
 "metadata": {
  "kernelspec": {
   "display_name": "venv2",
   "language": "python",
   "name": "venv2"
  },
  "language_info": {
   "codemirror_mode": {
    "name": "ipython",
    "version": 3
   },
   "file_extension": ".py",
   "mimetype": "text/x-python",
   "name": "python",
   "nbconvert_exporter": "python",
   "pygments_lexer": "ipython3",
   "version": "3.8.10"
  }
 },
 "nbformat": 4,
 "nbformat_minor": 5
}
